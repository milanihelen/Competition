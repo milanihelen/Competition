{
 "cells": [
  {
   "cell_type": "markdown",
   "id": "11f64b45",
   "metadata": {},
   "source": [
    "Data Collection\n",
    "\n",
    "About Dataset\n",
    "\n",
    "This dataset has data from 2014-2016 data for different commodities purchased across the state of Maharashtra.\n",
    "\n",
    "Columns\n",
    "\n",
    "1.APMC : Agricultural Produce Marketing Committee. It is a categorical variable. Places of different APMC are in it.\n",
    "\n",
    "2.Commodity : Names of commodities grown. Categorical.\n",
    "\n",
    "3.Year : Year of collection of the commodity at APMC.\n",
    "\n",
    "4.Month : Month of collection.\n",
    "\n",
    "5.arrivals_in_qtl : Quantity if commodity collected in quintals.\n",
    "\n",
    "6.min_price : Minimum price for the commodity.\n",
    "\n",
    "7.max_price : Maximum price for the commodity.\n",
    "\n",
    "8.modal_price : Target variable. Price given to farmers.\n",
    "\n",
    "9.date : Date of collection.\n",
    "\n",
    "10district_name : Name of the district of APMC.\n",
    "\n",
    "11.state_name : Name of state. Considering only for Maharashtra, so all values are Maharashtra."
   ]
  },
  {
   "cell_type": "markdown",
   "id": "ac3a11b8",
   "metadata": {},
   "source": [
    "### Importing libraries"
   ]
  },
  {
   "cell_type": "code",
   "execution_count": 1,
   "id": "e9268bf8",
   "metadata": {},
   "outputs": [],
   "source": [
    "import pandas as pd\n",
    "import numpy as np\n",
    "import matplotlib.pyplot as plt\n",
    "import seaborn as sns"
   ]
  },
  {
   "cell_type": "markdown",
   "id": "b1d7704a",
   "metadata": {},
   "source": [
    "## 1.Importing data into python environment"
   ]
  },
  {
   "cell_type": "code",
   "execution_count": 2,
   "id": "3cc15c8f",
   "metadata": {},
   "outputs": [
    {
     "data": {
      "text/html": [
       "<div>\n",
       "<style scoped>\n",
       "    .dataframe tbody tr th:only-of-type {\n",
       "        vertical-align: middle;\n",
       "    }\n",
       "\n",
       "    .dataframe tbody tr th {\n",
       "        vertical-align: top;\n",
       "    }\n",
       "\n",
       "    .dataframe thead th {\n",
       "        text-align: right;\n",
       "    }\n",
       "</style>\n",
       "<table border=\"1\" class=\"dataframe\">\n",
       "  <thead>\n",
       "    <tr style=\"text-align: right;\">\n",
       "      <th></th>\n",
       "      <th>APMC</th>\n",
       "      <th>Commodity</th>\n",
       "      <th>Year</th>\n",
       "      <th>Month</th>\n",
       "      <th>arrivals_in_qtl</th>\n",
       "      <th>min_price</th>\n",
       "      <th>max_price</th>\n",
       "      <th>modal_price</th>\n",
       "      <th>date</th>\n",
       "      <th>district_name</th>\n",
       "      <th>state_name</th>\n",
       "    </tr>\n",
       "  </thead>\n",
       "  <tbody>\n",
       "    <tr>\n",
       "      <th>0</th>\n",
       "      <td>Ahmednagar</td>\n",
       "      <td>Bajri</td>\n",
       "      <td>2015</td>\n",
       "      <td>April</td>\n",
       "      <td>79</td>\n",
       "      <td>1406</td>\n",
       "      <td>1538</td>\n",
       "      <td>1463</td>\n",
       "      <td>2015-04</td>\n",
       "      <td>Ahmadnagar</td>\n",
       "      <td>Maharashtra</td>\n",
       "    </tr>\n",
       "    <tr>\n",
       "      <th>1</th>\n",
       "      <td>Ahmednagar</td>\n",
       "      <td>Bajri</td>\n",
       "      <td>2016</td>\n",
       "      <td>April</td>\n",
       "      <td>106</td>\n",
       "      <td>1788</td>\n",
       "      <td>1925</td>\n",
       "      <td>1875</td>\n",
       "      <td>2016-04</td>\n",
       "      <td>Ahmadnagar</td>\n",
       "      <td>Maharashtra</td>\n",
       "    </tr>\n",
       "    <tr>\n",
       "      <th>2</th>\n",
       "      <td>Ahmednagar</td>\n",
       "      <td>Wheat(Husked)</td>\n",
       "      <td>2015</td>\n",
       "      <td>April</td>\n",
       "      <td>1253</td>\n",
       "      <td>1572</td>\n",
       "      <td>1890</td>\n",
       "      <td>1731</td>\n",
       "      <td>2015-04</td>\n",
       "      <td>Ahmadnagar</td>\n",
       "      <td>Maharashtra</td>\n",
       "    </tr>\n",
       "    <tr>\n",
       "      <th>3</th>\n",
       "      <td>Ahmednagar</td>\n",
       "      <td>Wheat(Husked)</td>\n",
       "      <td>2016</td>\n",
       "      <td>April</td>\n",
       "      <td>387</td>\n",
       "      <td>1750</td>\n",
       "      <td>2220</td>\n",
       "      <td>1999</td>\n",
       "      <td>2016-04</td>\n",
       "      <td>Ahmadnagar</td>\n",
       "      <td>Maharashtra</td>\n",
       "    </tr>\n",
       "    <tr>\n",
       "      <th>4</th>\n",
       "      <td>Ahmednagar</td>\n",
       "      <td>Sorgum(Jawar)</td>\n",
       "      <td>2015</td>\n",
       "      <td>April</td>\n",
       "      <td>3825</td>\n",
       "      <td>1600</td>\n",
       "      <td>2200</td>\n",
       "      <td>1900</td>\n",
       "      <td>2015-04</td>\n",
       "      <td>Ahmadnagar</td>\n",
       "      <td>Maharashtra</td>\n",
       "    </tr>\n",
       "  </tbody>\n",
       "</table>\n",
       "</div>"
      ],
      "text/plain": [
       "         APMC      Commodity  Year  Month  arrivals_in_qtl  min_price  \\\n",
       "0  Ahmednagar          Bajri  2015  April               79       1406   \n",
       "1  Ahmednagar          Bajri  2016  April              106       1788   \n",
       "2  Ahmednagar  Wheat(Husked)  2015  April             1253       1572   \n",
       "3  Ahmednagar  Wheat(Husked)  2016  April              387       1750   \n",
       "4  Ahmednagar  Sorgum(Jawar)  2015  April             3825       1600   \n",
       "\n",
       "   max_price  modal_price     date district_name   state_name  \n",
       "0       1538         1463  2015-04    Ahmadnagar  Maharashtra  \n",
       "1       1925         1875  2016-04    Ahmadnagar  Maharashtra  \n",
       "2       1890         1731  2015-04    Ahmadnagar  Maharashtra  \n",
       "3       2220         1999  2016-04    Ahmadnagar  Maharashtra  \n",
       "4       2200         1900  2015-04    Ahmadnagar  Maharashtra  "
      ]
     },
     "execution_count": 2,
     "metadata": {},
     "output_type": "execute_result"
    }
   ],
   "source": [
    "data=pd.read_csv('C:/Users/Admin/Downloads/Monthly_data_cmo.csv')\n",
    "data.head()"
   ]
  },
  {
   "cell_type": "code",
   "execution_count": 3,
   "id": "8192e4b0",
   "metadata": {},
   "outputs": [
    {
     "name": "stdout",
     "output_type": "stream",
     "text": [
      "<class 'pandas.core.frame.DataFrame'>\n",
      "RangeIndex: 62429 entries, 0 to 62428\n",
      "Data columns (total 11 columns):\n",
      " #   Column           Non-Null Count  Dtype \n",
      "---  ------           --------------  ----- \n",
      " 0   APMC             62429 non-null  object\n",
      " 1   Commodity        62429 non-null  object\n",
      " 2   Year             62429 non-null  int64 \n",
      " 3   Month            62429 non-null  object\n",
      " 4   arrivals_in_qtl  62429 non-null  int64 \n",
      " 5   min_price        62429 non-null  int64 \n",
      " 6   max_price        62429 non-null  int64 \n",
      " 7   modal_price      62429 non-null  int64 \n",
      " 8   date             62429 non-null  object\n",
      " 9   district_name    62429 non-null  object\n",
      " 10  state_name       62429 non-null  object\n",
      "dtypes: int64(5), object(6)\n",
      "memory usage: 5.2+ MB\n"
     ]
    }
   ],
   "source": [
    "data.info()"
   ]
  },
  {
   "cell_type": "code",
   "execution_count": 4,
   "id": "88a94e30",
   "metadata": {},
   "outputs": [
    {
     "data": {
      "text/html": [
       "<div>\n",
       "<style scoped>\n",
       "    .dataframe tbody tr th:only-of-type {\n",
       "        vertical-align: middle;\n",
       "    }\n",
       "\n",
       "    .dataframe tbody tr th {\n",
       "        vertical-align: top;\n",
       "    }\n",
       "\n",
       "    .dataframe thead th {\n",
       "        text-align: right;\n",
       "    }\n",
       "</style>\n",
       "<table border=\"1\" class=\"dataframe\">\n",
       "  <thead>\n",
       "    <tr style=\"text-align: right;\">\n",
       "      <th></th>\n",
       "      <th>Year</th>\n",
       "      <th>arrivals_in_qtl</th>\n",
       "      <th>min_price</th>\n",
       "      <th>max_price</th>\n",
       "      <th>modal_price</th>\n",
       "    </tr>\n",
       "  </thead>\n",
       "  <tbody>\n",
       "    <tr>\n",
       "      <th>count</th>\n",
       "      <td>62429.000000</td>\n",
       "      <td>6.242900e+04</td>\n",
       "      <td>6.242900e+04</td>\n",
       "      <td>6.242900e+04</td>\n",
       "      <td>62429.000000</td>\n",
       "    </tr>\n",
       "    <tr>\n",
       "      <th>mean</th>\n",
       "      <td>2015.337503</td>\n",
       "      <td>6.043088e+03</td>\n",
       "      <td>2.945228e+03</td>\n",
       "      <td>3.688814e+03</td>\n",
       "      <td>3296.003989</td>\n",
       "    </tr>\n",
       "    <tr>\n",
       "      <th>std</th>\n",
       "      <td>0.690451</td>\n",
       "      <td>3.470331e+04</td>\n",
       "      <td>1.318396e+04</td>\n",
       "      <td>7.662962e+03</td>\n",
       "      <td>3607.792534</td>\n",
       "    </tr>\n",
       "    <tr>\n",
       "      <th>min</th>\n",
       "      <td>2014.000000</td>\n",
       "      <td>1.000000e+00</td>\n",
       "      <td>0.000000e+00</td>\n",
       "      <td>0.000000e+00</td>\n",
       "      <td>0.000000</td>\n",
       "    </tr>\n",
       "    <tr>\n",
       "      <th>25%</th>\n",
       "      <td>2015.000000</td>\n",
       "      <td>3.800000e+01</td>\n",
       "      <td>1.250000e+03</td>\n",
       "      <td>1.600000e+03</td>\n",
       "      <td>1450.000000</td>\n",
       "    </tr>\n",
       "    <tr>\n",
       "      <th>50%</th>\n",
       "      <td>2015.000000</td>\n",
       "      <td>2.110000e+02</td>\n",
       "      <td>1.976000e+03</td>\n",
       "      <td>2.797000e+03</td>\n",
       "      <td>2425.000000</td>\n",
       "    </tr>\n",
       "    <tr>\n",
       "      <th>75%</th>\n",
       "      <td>2016.000000</td>\n",
       "      <td>1.364000e+03</td>\n",
       "      <td>3.900000e+03</td>\n",
       "      <td>4.647000e+03</td>\n",
       "      <td>4257.000000</td>\n",
       "    </tr>\n",
       "    <tr>\n",
       "      <th>max</th>\n",
       "      <td>2016.000000</td>\n",
       "      <td>1.450254e+06</td>\n",
       "      <td>3.153038e+06</td>\n",
       "      <td>1.600090e+06</td>\n",
       "      <td>142344.000000</td>\n",
       "    </tr>\n",
       "  </tbody>\n",
       "</table>\n",
       "</div>"
      ],
      "text/plain": [
       "               Year  arrivals_in_qtl     min_price     max_price  \\\n",
       "count  62429.000000     6.242900e+04  6.242900e+04  6.242900e+04   \n",
       "mean    2015.337503     6.043088e+03  2.945228e+03  3.688814e+03   \n",
       "std        0.690451     3.470331e+04  1.318396e+04  7.662962e+03   \n",
       "min     2014.000000     1.000000e+00  0.000000e+00  0.000000e+00   \n",
       "25%     2015.000000     3.800000e+01  1.250000e+03  1.600000e+03   \n",
       "50%     2015.000000     2.110000e+02  1.976000e+03  2.797000e+03   \n",
       "75%     2016.000000     1.364000e+03  3.900000e+03  4.647000e+03   \n",
       "max     2016.000000     1.450254e+06  3.153038e+06  1.600090e+06   \n",
       "\n",
       "         modal_price  \n",
       "count   62429.000000  \n",
       "mean     3296.003989  \n",
       "std      3607.792534  \n",
       "min         0.000000  \n",
       "25%      1450.000000  \n",
       "50%      2425.000000  \n",
       "75%      4257.000000  \n",
       "max    142344.000000  "
      ]
     },
     "execution_count": 4,
     "metadata": {},
     "output_type": "execute_result"
    }
   ],
   "source": [
    "data.describe()"
   ]
  },
  {
   "cell_type": "code",
   "execution_count": 5,
   "id": "c108ddff",
   "metadata": {},
   "outputs": [
    {
     "data": {
      "text/plain": [
       "(62429, 11)"
      ]
     },
     "execution_count": 5,
     "metadata": {},
     "output_type": "execute_result"
    }
   ],
   "source": [
    "data.shape"
   ]
  },
  {
   "cell_type": "markdown",
   "id": "ed1d613d",
   "metadata": {},
   "source": [
    "## 2.Pre-Processing\n",
    "### a.Missing value handling"
   ]
  },
  {
   "cell_type": "code",
   "execution_count": 6,
   "id": "ef6d9f0e",
   "metadata": {},
   "outputs": [
    {
     "data": {
      "text/plain": [
       "APMC               0\n",
       "Commodity          0\n",
       "Year               0\n",
       "Month              0\n",
       "arrivals_in_qtl    0\n",
       "min_price          0\n",
       "max_price          0\n",
       "modal_price        0\n",
       "date               0\n",
       "district_name      0\n",
       "state_name         0\n",
       "dtype: int64"
      ]
     },
     "execution_count": 6,
     "metadata": {},
     "output_type": "execute_result"
    }
   ],
   "source": [
    "#checking for missing values\n",
    "data.isnull().sum()"
   ]
  },
  {
   "cell_type": "code",
   "execution_count": 7,
   "id": "3ccaaf91",
   "metadata": {},
   "outputs": [],
   "source": [
    "#there are no missing values"
   ]
  },
  {
   "cell_type": "markdown",
   "id": "cbf7ee60",
   "metadata": {},
   "source": [
    "### b.Outlier detection and Handling"
   ]
  },
  {
   "cell_type": "code",
   "execution_count": 8,
   "id": "c7d4ee84",
   "metadata": {},
   "outputs": [
    {
     "data": {
      "text/plain": [
       "<AxesSubplot:>"
      ]
     },
     "execution_count": 8,
     "metadata": {},
     "output_type": "execute_result"
    },
    {
     "data": {
      "image/png": "[encoded data removed]",
      "text/plain": [
       "<Figure size 432x288 with 1 Axes>"
      ]
     },
     "metadata": {
      "needs_background": "light"
     },
     "output_type": "display_data"
    }
   ],
   "source": [
    "# plotting boxplot of the entire dataset\n",
    "data.plot(kind='box')"
   ]
  },
  {
   "cell_type": "code",
   "execution_count": 9,
   "id": "3e37786d",
   "metadata": {},
   "outputs": [],
   "source": [
    "Q1 = np.percentile(data['arrivals_in_qtl'],25,interpolation='midpoint')\n",
    "Q3 = np.percentile(data['arrivals_in_qtl'],75,interpolation='midpoint')\n",
    "\n",
    "IQR = Q3-Q1\n",
    "low_limit=Q1-1.5*IQR\n",
    "high_limit=Q3+1.5*IQR\n",
    "\n",
    "index=data['arrivals_in_qtl'][(data['arrivals_in_qtl']<low_limit)|(data['arrivals_in_qtl']>high_limit)].index\n",
    "data.drop(index,inplace=True)"
   ]
  },
  {
   "cell_type": "code",
   "execution_count": 10,
   "id": "da834217",
   "metadata": {},
   "outputs": [],
   "source": [
    "Q1 = np.percentile(data['min_price'],25,interpolation='midpoint')\n",
    "Q3 = np.percentile(data['min_price'],75,interpolation='midpoint')\n",
    "\n",
    "IQR = Q3-Q1\n",
    "low_limit=Q1-1.5*IQR\n",
    "high_limit=Q3+1.5*IQR\n",
    "\n",
    "index=data['min_price'][(data['min_price']<low_limit)|(data['min_price']>high_limit)].index\n",
    "data.drop(index,inplace=True)"
   ]
  },
  {
   "cell_type": "code",
   "execution_count": 11,
   "id": "97ba6944",
   "metadata": {},
   "outputs": [],
   "source": [
    "Q1 = np.percentile(data['max_price'],25,interpolation='midpoint')\n",
    "Q3 = np.percentile(data['max_price'],75,interpolation='midpoint')\n",
    "\n",
    "IQR = Q3-Q1\n",
    "low_limit=Q1-1.5*IQR\n",
    "high_limit=Q3+1.5*IQR\n",
    "\n",
    "index=data['max_price'][(data['max_price']<low_limit)|(data['max_price']>high_limit)].index\n",
    "data.drop(index,inplace=True)"
   ]
  },
  {
   "cell_type": "code",
   "execution_count": 12,
   "id": "89ae812c",
   "metadata": {},
   "outputs": [],
   "source": [
    "Q1 = np.percentile(data['modal_price'],25,interpolation='midpoint')\n",
    "Q3 = np.percentile(data['modal_price'],75,interpolation='midpoint')\n",
    "\n",
    "IQR = Q3-Q1\n",
    "low_limit=Q1-1.5*IQR\n",
    "high_limit=Q3+1.5*IQR\n",
    "\n",
    "index=data['modal_price'][(data['modal_price']<low_limit)|(data['modal_price']>high_limit)].index\n",
    "data.drop(index,inplace=True)"
   ]
  },
  {
   "cell_type": "code",
   "execution_count": 13,
   "id": "ffba8823",
   "metadata": {},
   "outputs": [
    {
     "data": {
      "text/plain": [
       "<AxesSubplot:>"
      ]
     },
     "execution_count": 13,
     "metadata": {},
     "output_type": "execute_result"
    },
    {
     "data": {
      "image/png": "[encoded data removed]",
      "text/plain": [
       "<Figure size 432x288 with 1 Axes>"
      ]
     },
     "metadata": {
      "needs_background": "light"
     },
     "output_type": "display_data"
    }
   ],
   "source": [
    "data.plot(kind='box')"
   ]
  },
  {
   "cell_type": "code",
   "execution_count": 14,
   "id": "ed7c4370",
   "metadata": {},
   "outputs": [
    {
     "data": {
      "text/plain": [
       "APMC               object\n",
       "Commodity          object\n",
       "Year                int64\n",
       "Month              object\n",
       "arrivals_in_qtl     int64\n",
       "min_price           int64\n",
       "max_price           int64\n",
       "modal_price         int64\n",
       "date               object\n",
       "district_name      object\n",
       "state_name         object\n",
       "dtype: object"
      ]
     },
     "execution_count": 14,
     "metadata": {},
     "output_type": "execute_result"
    }
   ],
   "source": [
    "data.dtypes"
   ]
  },
  {
   "cell_type": "markdown",
   "id": "0f663b64",
   "metadata": {},
   "source": [
    "### c.Encoding"
   ]
  },
  {
   "cell_type": "code",
   "execution_count": 15,
   "id": "380a4d35",
   "metadata": {},
   "outputs": [
    {
     "data": {
      "text/plain": [
       "APMC                340\n",
       "Commodity           327\n",
       "Year                  3\n",
       "Month                12\n",
       "arrivals_in_qtl    3082\n",
       "min_price          6691\n",
       "max_price          7386\n",
       "modal_price        7098\n",
       "date                 27\n",
       "district_name        33\n",
       "state_name            1\n",
       "dtype: int64"
      ]
     },
     "execution_count": 15,
     "metadata": {},
     "output_type": "execute_result"
    }
   ],
   "source": [
    "data.nunique()"
   ]
  },
  {
   "cell_type": "code",
   "execution_count": 16,
   "id": "8ed29e14",
   "metadata": {},
   "outputs": [
    {
     "data": {
      "text/html": [
       "<div>\n",
       "<style scoped>\n",
       "    .dataframe tbody tr th:only-of-type {\n",
       "        vertical-align: middle;\n",
       "    }\n",
       "\n",
       "    .dataframe tbody tr th {\n",
       "        vertical-align: top;\n",
       "    }\n",
       "\n",
       "    .dataframe thead th {\n",
       "        text-align: right;\n",
       "    }\n",
       "</style>\n",
       "<table border=\"1\" class=\"dataframe\">\n",
       "  <thead>\n",
       "    <tr style=\"text-align: right;\">\n",
       "      <th></th>\n",
       "      <th>APMC</th>\n",
       "      <th>Commodity</th>\n",
       "      <th>Month</th>\n",
       "      <th>arrivals_in_qtl</th>\n",
       "      <th>min_price</th>\n",
       "      <th>max_price</th>\n",
       "      <th>modal_price</th>\n",
       "      <th>date</th>\n",
       "      <th>district_name</th>\n",
       "      <th>state_name</th>\n",
       "      <th>Year_2014</th>\n",
       "      <th>Year_2015</th>\n",
       "      <th>Year_2016</th>\n",
       "    </tr>\n",
       "  </thead>\n",
       "  <tbody>\n",
       "    <tr>\n",
       "      <th>0</th>\n",
       "      <td>Ahmednagar</td>\n",
       "      <td>Bajri</td>\n",
       "      <td>April</td>\n",
       "      <td>79</td>\n",
       "      <td>1406</td>\n",
       "      <td>1538</td>\n",
       "      <td>1463</td>\n",
       "      <td>2015-04</td>\n",
       "      <td>Ahmadnagar</td>\n",
       "      <td>Maharashtra</td>\n",
       "      <td>0</td>\n",
       "      <td>1</td>\n",
       "      <td>0</td>\n",
       "    </tr>\n",
       "    <tr>\n",
       "      <th>1</th>\n",
       "      <td>Ahmednagar</td>\n",
       "      <td>Bajri</td>\n",
       "      <td>April</td>\n",
       "      <td>106</td>\n",
       "      <td>1788</td>\n",
       "      <td>1925</td>\n",
       "      <td>1875</td>\n",
       "      <td>2016-04</td>\n",
       "      <td>Ahmadnagar</td>\n",
       "      <td>Maharashtra</td>\n",
       "      <td>0</td>\n",
       "      <td>0</td>\n",
       "      <td>1</td>\n",
       "    </tr>\n",
       "    <tr>\n",
       "      <th>2</th>\n",
       "      <td>Ahmednagar</td>\n",
       "      <td>Wheat(Husked)</td>\n",
       "      <td>April</td>\n",
       "      <td>1253</td>\n",
       "      <td>1572</td>\n",
       "      <td>1890</td>\n",
       "      <td>1731</td>\n",
       "      <td>2015-04</td>\n",
       "      <td>Ahmadnagar</td>\n",
       "      <td>Maharashtra</td>\n",
       "      <td>0</td>\n",
       "      <td>1</td>\n",
       "      <td>0</td>\n",
       "    </tr>\n",
       "    <tr>\n",
       "      <th>3</th>\n",
       "      <td>Ahmednagar</td>\n",
       "      <td>Wheat(Husked)</td>\n",
       "      <td>April</td>\n",
       "      <td>387</td>\n",
       "      <td>1750</td>\n",
       "      <td>2220</td>\n",
       "      <td>1999</td>\n",
       "      <td>2016-04</td>\n",
       "      <td>Ahmadnagar</td>\n",
       "      <td>Maharashtra</td>\n",
       "      <td>0</td>\n",
       "      <td>0</td>\n",
       "      <td>1</td>\n",
       "    </tr>\n",
       "    <tr>\n",
       "      <th>5</th>\n",
       "      <td>Ahmednagar</td>\n",
       "      <td>Sorgum(Jawar)</td>\n",
       "      <td>April</td>\n",
       "      <td>2093</td>\n",
       "      <td>1695</td>\n",
       "      <td>2454</td>\n",
       "      <td>2119</td>\n",
       "      <td>2016-04</td>\n",
       "      <td>Ahmadnagar</td>\n",
       "      <td>Maharashtra</td>\n",
       "      <td>0</td>\n",
       "      <td>0</td>\n",
       "      <td>1</td>\n",
       "    </tr>\n",
       "  </tbody>\n",
       "</table>\n",
       "</div>"
      ],
      "text/plain": [
       "         APMC      Commodity  Month  arrivals_in_qtl  min_price  max_price  \\\n",
       "0  Ahmednagar          Bajri  April               79       1406       1538   \n",
       "1  Ahmednagar          Bajri  April              106       1788       1925   \n",
       "2  Ahmednagar  Wheat(Husked)  April             1253       1572       1890   \n",
       "3  Ahmednagar  Wheat(Husked)  April              387       1750       2220   \n",
       "5  Ahmednagar  Sorgum(Jawar)  April             2093       1695       2454   \n",
       "\n",
       "   modal_price     date district_name   state_name  Year_2014  Year_2015  \\\n",
       "0         1463  2015-04    Ahmadnagar  Maharashtra          0          1   \n",
       "1         1875  2016-04    Ahmadnagar  Maharashtra          0          0   \n",
       "2         1731  2015-04    Ahmadnagar  Maharashtra          0          1   \n",
       "3         1999  2016-04    Ahmadnagar  Maharashtra          0          0   \n",
       "5         2119  2016-04    Ahmadnagar  Maharashtra          0          0   \n",
       "\n",
       "   Year_2016  \n",
       "0          0  \n",
       "1          1  \n",
       "2          0  \n",
       "3          1  \n",
       "5          1  "
      ]
     },
     "execution_count": 16,
     "metadata": {},
     "output_type": "execute_result"
    }
   ],
   "source": [
    "## one hot encoding\n",
    "\n",
    "data=pd.get_dummies(data,columns=['Year'])\n",
    "data.head()"
   ]
  },
  {
   "cell_type": "code",
   "execution_count": 17,
   "id": "47d1878b",
   "metadata": {},
   "outputs": [],
   "source": [
    "import category_encoders as ce\n"
   ]
  },
  {
   "cell_type": "code",
   "execution_count": 18,
   "id": "17195623",
   "metadata": {},
   "outputs": [
    {
     "data": {
      "text/html": [
       "<div>\n",
       "<style scoped>\n",
       "    .dataframe tbody tr th:only-of-type {\n",
       "        vertical-align: middle;\n",
       "    }\n",
       "\n",
       "    .dataframe tbody tr th {\n",
       "        vertical-align: top;\n",
       "    }\n",
       "\n",
       "    .dataframe thead th {\n",
       "        text-align: right;\n",
       "    }\n",
       "</style>\n",
       "<table border=\"1\" class=\"dataframe\">\n",
       "  <thead>\n",
       "    <tr style=\"text-align: right;\">\n",
       "      <th></th>\n",
       "      <th>APMC</th>\n",
       "      <th>Commodity</th>\n",
       "      <th>Month</th>\n",
       "      <th>arrivals_in_qtl</th>\n",
       "      <th>min_price</th>\n",
       "      <th>max_price</th>\n",
       "      <th>modal_price</th>\n",
       "      <th>date</th>\n",
       "      <th>district_name</th>\n",
       "      <th>state_name</th>\n",
       "      <th>Year_2014</th>\n",
       "      <th>Year_2015</th>\n",
       "      <th>Year_2016</th>\n",
       "    </tr>\n",
       "  </thead>\n",
       "  <tbody>\n",
       "    <tr>\n",
       "      <th>0</th>\n",
       "      <td>Ahmednagar</td>\n",
       "      <td>Bajri</td>\n",
       "      <td>April</td>\n",
       "      <td>79</td>\n",
       "      <td>1406</td>\n",
       "      <td>1538</td>\n",
       "      <td>1463</td>\n",
       "      <td>2015-04</td>\n",
       "      <td>Ahmadnagar</td>\n",
       "      <td>Maharashtra</td>\n",
       "      <td>0</td>\n",
       "      <td>1</td>\n",
       "      <td>0</td>\n",
       "    </tr>\n",
       "    <tr>\n",
       "      <th>1</th>\n",
       "      <td>Ahmednagar</td>\n",
       "      <td>Bajri</td>\n",
       "      <td>April</td>\n",
       "      <td>106</td>\n",
       "      <td>1788</td>\n",
       "      <td>1925</td>\n",
       "      <td>1875</td>\n",
       "      <td>2016-04</td>\n",
       "      <td>Ahmadnagar</td>\n",
       "      <td>Maharashtra</td>\n",
       "      <td>0</td>\n",
       "      <td>0</td>\n",
       "      <td>1</td>\n",
       "    </tr>\n",
       "    <tr>\n",
       "      <th>2</th>\n",
       "      <td>Ahmednagar</td>\n",
       "      <td>Wheat(Husked)</td>\n",
       "      <td>April</td>\n",
       "      <td>1253</td>\n",
       "      <td>1572</td>\n",
       "      <td>1890</td>\n",
       "      <td>1731</td>\n",
       "      <td>2015-04</td>\n",
       "      <td>Ahmadnagar</td>\n",
       "      <td>Maharashtra</td>\n",
       "      <td>0</td>\n",
       "      <td>1</td>\n",
       "      <td>0</td>\n",
       "    </tr>\n",
       "    <tr>\n",
       "      <th>3</th>\n",
       "      <td>Ahmednagar</td>\n",
       "      <td>Wheat(Husked)</td>\n",
       "      <td>April</td>\n",
       "      <td>387</td>\n",
       "      <td>1750</td>\n",
       "      <td>2220</td>\n",
       "      <td>1999</td>\n",
       "      <td>2016-04</td>\n",
       "      <td>Ahmadnagar</td>\n",
       "      <td>Maharashtra</td>\n",
       "      <td>0</td>\n",
       "      <td>0</td>\n",
       "      <td>1</td>\n",
       "    </tr>\n",
       "    <tr>\n",
       "      <th>5</th>\n",
       "      <td>Ahmednagar</td>\n",
       "      <td>Sorgum(Jawar)</td>\n",
       "      <td>April</td>\n",
       "      <td>2093</td>\n",
       "      <td>1695</td>\n",
       "      <td>2454</td>\n",
       "      <td>2119</td>\n",
       "      <td>2016-04</td>\n",
       "      <td>Ahmadnagar</td>\n",
       "      <td>Maharashtra</td>\n",
       "      <td>0</td>\n",
       "      <td>0</td>\n",
       "      <td>1</td>\n",
       "    </tr>\n",
       "  </tbody>\n",
       "</table>\n",
       "</div>"
      ],
      "text/plain": [
       "         APMC      Commodity  Month  arrivals_in_qtl  min_price  max_price  \\\n",
       "0  Ahmednagar          Bajri  April               79       1406       1538   \n",
       "1  Ahmednagar          Bajri  April              106       1788       1925   \n",
       "2  Ahmednagar  Wheat(Husked)  April             1253       1572       1890   \n",
       "3  Ahmednagar  Wheat(Husked)  April              387       1750       2220   \n",
       "5  Ahmednagar  Sorgum(Jawar)  April             2093       1695       2454   \n",
       "\n",
       "   modal_price     date district_name   state_name  Year_2014  Year_2015  \\\n",
       "0         1463  2015-04    Ahmadnagar  Maharashtra          0          1   \n",
       "1         1875  2016-04    Ahmadnagar  Maharashtra          0          0   \n",
       "2         1731  2015-04    Ahmadnagar  Maharashtra          0          1   \n",
       "3         1999  2016-04    Ahmadnagar  Maharashtra          0          0   \n",
       "5         2119  2016-04    Ahmadnagar  Maharashtra          0          0   \n",
       "\n",
       "   Year_2016  \n",
       "0          0  \n",
       "1          1  \n",
       "2          0  \n",
       "3          1  \n",
       "5          1  "
      ]
     },
     "execution_count": 18,
     "metadata": {},
     "output_type": "execute_result"
    }
   ],
   "source": [
    "encoder= ce.BaseNEncoder(cols=['APMC','Commodity','district_name'],return_df=True,base=3)\n",
    "data.head()"
   ]
  },
  {
   "cell_type": "code",
   "execution_count": 19,
   "id": "37c62fc2",
   "metadata": {},
   "outputs": [],
   "source": [
    "pd.set_option( 'display.max_columns', None)\n"
   ]
  },
  {
   "cell_type": "code",
   "execution_count": 20,
   "id": "9bdd3ce3",
   "metadata": {},
   "outputs": [
    {
     "data": {
      "text/html": [
       "<div>\n",
       "<style scoped>\n",
       "    .dataframe tbody tr th:only-of-type {\n",
       "        vertical-align: middle;\n",
       "    }\n",
       "\n",
       "    .dataframe tbody tr th {\n",
       "        vertical-align: top;\n",
       "    }\n",
       "\n",
       "    .dataframe thead th {\n",
       "        text-align: right;\n",
       "    }\n",
       "</style>\n",
       "<table border=\"1\" class=\"dataframe\">\n",
       "  <thead>\n",
       "    <tr style=\"text-align: right;\">\n",
       "      <th></th>\n",
       "      <th>APMC_0</th>\n",
       "      <th>APMC_1</th>\n",
       "      <th>APMC_2</th>\n",
       "      <th>APMC_3</th>\n",
       "      <th>APMC_4</th>\n",
       "      <th>APMC_5</th>\n",
       "      <th>Commodity_0</th>\n",
       "      <th>Commodity_1</th>\n",
       "      <th>Commodity_2</th>\n",
       "      <th>Commodity_3</th>\n",
       "      <th>Commodity_4</th>\n",
       "      <th>Commodity_5</th>\n",
       "      <th>Month</th>\n",
       "      <th>arrivals_in_qtl</th>\n",
       "      <th>min_price</th>\n",
       "      <th>max_price</th>\n",
       "      <th>modal_price</th>\n",
       "      <th>date</th>\n",
       "      <th>district_name_0</th>\n",
       "      <th>district_name_1</th>\n",
       "      <th>district_name_2</th>\n",
       "      <th>district_name_3</th>\n",
       "      <th>state_name</th>\n",
       "      <th>Year_2014</th>\n",
       "      <th>Year_2015</th>\n",
       "      <th>Year_2016</th>\n",
       "    </tr>\n",
       "  </thead>\n",
       "  <tbody>\n",
       "    <tr>\n",
       "      <th>0</th>\n",
       "      <td>0</td>\n",
       "      <td>0</td>\n",
       "      <td>0</td>\n",
       "      <td>0</td>\n",
       "      <td>0</td>\n",
       "      <td>1</td>\n",
       "      <td>0</td>\n",
       "      <td>0</td>\n",
       "      <td>0</td>\n",
       "      <td>0</td>\n",
       "      <td>0</td>\n",
       "      <td>1</td>\n",
       "      <td>April</td>\n",
       "      <td>79</td>\n",
       "      <td>1406</td>\n",
       "      <td>1538</td>\n",
       "      <td>1463</td>\n",
       "      <td>2015-04</td>\n",
       "      <td>0</td>\n",
       "      <td>0</td>\n",
       "      <td>0</td>\n",
       "      <td>1</td>\n",
       "      <td>Maharashtra</td>\n",
       "      <td>0</td>\n",
       "      <td>1</td>\n",
       "      <td>0</td>\n",
       "    </tr>\n",
       "    <tr>\n",
       "      <th>1</th>\n",
       "      <td>0</td>\n",
       "      <td>0</td>\n",
       "      <td>0</td>\n",
       "      <td>0</td>\n",
       "      <td>0</td>\n",
       "      <td>1</td>\n",
       "      <td>0</td>\n",
       "      <td>0</td>\n",
       "      <td>0</td>\n",
       "      <td>0</td>\n",
       "      <td>0</td>\n",
       "      <td>1</td>\n",
       "      <td>April</td>\n",
       "      <td>106</td>\n",
       "      <td>1788</td>\n",
       "      <td>1925</td>\n",
       "      <td>1875</td>\n",
       "      <td>2016-04</td>\n",
       "      <td>0</td>\n",
       "      <td>0</td>\n",
       "      <td>0</td>\n",
       "      <td>1</td>\n",
       "      <td>Maharashtra</td>\n",
       "      <td>0</td>\n",
       "      <td>0</td>\n",
       "      <td>1</td>\n",
       "    </tr>\n",
       "    <tr>\n",
       "      <th>2</th>\n",
       "      <td>0</td>\n",
       "      <td>0</td>\n",
       "      <td>0</td>\n",
       "      <td>0</td>\n",
       "      <td>0</td>\n",
       "      <td>1</td>\n",
       "      <td>0</td>\n",
       "      <td>0</td>\n",
       "      <td>0</td>\n",
       "      <td>0</td>\n",
       "      <td>0</td>\n",
       "      <td>2</td>\n",
       "      <td>April</td>\n",
       "      <td>1253</td>\n",
       "      <td>1572</td>\n",
       "      <td>1890</td>\n",
       "      <td>1731</td>\n",
       "      <td>2015-04</td>\n",
       "      <td>0</td>\n",
       "      <td>0</td>\n",
       "      <td>0</td>\n",
       "      <td>1</td>\n",
       "      <td>Maharashtra</td>\n",
       "      <td>0</td>\n",
       "      <td>1</td>\n",
       "      <td>0</td>\n",
       "    </tr>\n",
       "    <tr>\n",
       "      <th>3</th>\n",
       "      <td>0</td>\n",
       "      <td>0</td>\n",
       "      <td>0</td>\n",
       "      <td>0</td>\n",
       "      <td>0</td>\n",
       "      <td>1</td>\n",
       "      <td>0</td>\n",
       "      <td>0</td>\n",
       "      <td>0</td>\n",
       "      <td>0</td>\n",
       "      <td>0</td>\n",
       "      <td>2</td>\n",
       "      <td>April</td>\n",
       "      <td>387</td>\n",
       "      <td>1750</td>\n",
       "      <td>2220</td>\n",
       "      <td>1999</td>\n",
       "      <td>2016-04</td>\n",
       "      <td>0</td>\n",
       "      <td>0</td>\n",
       "      <td>0</td>\n",
       "      <td>1</td>\n",
       "      <td>Maharashtra</td>\n",
       "      <td>0</td>\n",
       "      <td>0</td>\n",
       "      <td>1</td>\n",
       "    </tr>\n",
       "    <tr>\n",
       "      <th>5</th>\n",
       "      <td>0</td>\n",
       "      <td>0</td>\n",
       "      <td>0</td>\n",
       "      <td>0</td>\n",
       "      <td>0</td>\n",
       "      <td>1</td>\n",
       "      <td>0</td>\n",
       "      <td>0</td>\n",
       "      <td>0</td>\n",
       "      <td>0</td>\n",
       "      <td>1</td>\n",
       "      <td>0</td>\n",
       "      <td>April</td>\n",
       "      <td>2093</td>\n",
       "      <td>1695</td>\n",
       "      <td>2454</td>\n",
       "      <td>2119</td>\n",
       "      <td>2016-04</td>\n",
       "      <td>0</td>\n",
       "      <td>0</td>\n",
       "      <td>0</td>\n",
       "      <td>1</td>\n",
       "      <td>Maharashtra</td>\n",
       "      <td>0</td>\n",
       "      <td>0</td>\n",
       "      <td>1</td>\n",
       "    </tr>\n",
       "  </tbody>\n",
       "</table>\n",
       "</div>"
      ],
      "text/plain": [
       "   APMC_0  APMC_1  APMC_2  APMC_3  APMC_4  APMC_5  Commodity_0  Commodity_1  \\\n",
       "0       0       0       0       0       0       1            0            0   \n",
       "1       0       0       0       0       0       1            0            0   \n",
       "2       0       0       0       0       0       1            0            0   \n",
       "3       0       0       0       0       0       1            0            0   \n",
       "5       0       0       0       0       0       1            0            0   \n",
       "\n",
       "   Commodity_2  Commodity_3  Commodity_4  Commodity_5  Month  arrivals_in_qtl  \\\n",
       "0            0            0            0            1  April               79   \n",
       "1            0            0            0            1  April              106   \n",
       "2            0            0            0            2  April             1253   \n",
       "3            0            0            0            2  April              387   \n",
       "5            0            0            1            0  April             2093   \n",
       "\n",
       "   min_price  max_price  modal_price     date  district_name_0  \\\n",
       "0       1406       1538         1463  2015-04                0   \n",
       "1       1788       1925         1875  2016-04                0   \n",
       "2       1572       1890         1731  2015-04                0   \n",
       "3       1750       2220         1999  2016-04                0   \n",
       "5       1695       2454         2119  2016-04                0   \n",
       "\n",
       "   district_name_1  district_name_2  district_name_3   state_name  Year_2014  \\\n",
       "0                0                0                1  Maharashtra          0   \n",
       "1                0                0                1  Maharashtra          0   \n",
       "2                0                0                1  Maharashtra          0   \n",
       "3                0                0                1  Maharashtra          0   \n",
       "5                0                0                1  Maharashtra          0   \n",
       "\n",
       "   Year_2015  Year_2016  \n",
       "0          1          0  \n",
       "1          0          1  \n",
       "2          1          0  \n",
       "3          0          1  \n",
       "5          0          1  "
      ]
     },
     "execution_count": 20,
     "metadata": {},
     "output_type": "execute_result"
    }
   ],
   "source": [
    "## to fit and transform the data\n",
    "\n",
    "data_encoded=encoder.fit_transform(data)\n",
    "data_encoded.head()"
   ]
  },
  {
   "cell_type": "code",
   "execution_count": 21,
   "id": "b5cd56b6",
   "metadata": {},
   "outputs": [],
   "source": [
    "## Droping unwanted column \n",
    "data_encoded=data_encoded.drop(['Month','state_name'],axis=1)"
   ]
  },
  {
   "cell_type": "code",
   "execution_count": 22,
   "id": "a63eb423",
   "metadata": {},
   "outputs": [
    {
     "data": {
      "text/html": [
       "<div>\n",
       "<style scoped>\n",
       "    .dataframe tbody tr th:only-of-type {\n",
       "        vertical-align: middle;\n",
       "    }\n",
       "\n",
       "    .dataframe tbody tr th {\n",
       "        vertical-align: top;\n",
       "    }\n",
       "\n",
       "    .dataframe thead th {\n",
       "        text-align: right;\n",
       "    }\n",
       "</style>\n",
       "<table border=\"1\" class=\"dataframe\">\n",
       "  <thead>\n",
       "    <tr style=\"text-align: right;\">\n",
       "      <th></th>\n",
       "      <th>APMC_0</th>\n",
       "      <th>APMC_1</th>\n",
       "      <th>APMC_2</th>\n",
       "      <th>APMC_3</th>\n",
       "      <th>APMC_4</th>\n",
       "      <th>APMC_5</th>\n",
       "      <th>Commodity_0</th>\n",
       "      <th>Commodity_1</th>\n",
       "      <th>Commodity_2</th>\n",
       "      <th>Commodity_3</th>\n",
       "      <th>Commodity_4</th>\n",
       "      <th>Commodity_5</th>\n",
       "      <th>arrivals_in_qtl</th>\n",
       "      <th>min_price</th>\n",
       "      <th>max_price</th>\n",
       "      <th>modal_price</th>\n",
       "      <th>date</th>\n",
       "      <th>district_name_0</th>\n",
       "      <th>district_name_1</th>\n",
       "      <th>district_name_2</th>\n",
       "      <th>district_name_3</th>\n",
       "      <th>Year_2014</th>\n",
       "      <th>Year_2015</th>\n",
       "      <th>Year_2016</th>\n",
       "    </tr>\n",
       "  </thead>\n",
       "  <tbody>\n",
       "    <tr>\n",
       "      <th>0</th>\n",
       "      <td>0</td>\n",
       "      <td>0</td>\n",
       "      <td>0</td>\n",
       "      <td>0</td>\n",
       "      <td>0</td>\n",
       "      <td>1</td>\n",
       "      <td>0</td>\n",
       "      <td>0</td>\n",
       "      <td>0</td>\n",
       "      <td>0</td>\n",
       "      <td>0</td>\n",
       "      <td>1</td>\n",
       "      <td>79</td>\n",
       "      <td>1406</td>\n",
       "      <td>1538</td>\n",
       "      <td>1463</td>\n",
       "      <td>2015-04-01</td>\n",
       "      <td>0</td>\n",
       "      <td>0</td>\n",
       "      <td>0</td>\n",
       "      <td>1</td>\n",
       "      <td>0</td>\n",
       "      <td>1</td>\n",
       "      <td>0</td>\n",
       "    </tr>\n",
       "    <tr>\n",
       "      <th>1</th>\n",
       "      <td>0</td>\n",
       "      <td>0</td>\n",
       "      <td>0</td>\n",
       "      <td>0</td>\n",
       "      <td>0</td>\n",
       "      <td>1</td>\n",
       "      <td>0</td>\n",
       "      <td>0</td>\n",
       "      <td>0</td>\n",
       "      <td>0</td>\n",
       "      <td>0</td>\n",
       "      <td>1</td>\n",
       "      <td>106</td>\n",
       "      <td>1788</td>\n",
       "      <td>1925</td>\n",
       "      <td>1875</td>\n",
       "      <td>2016-04-01</td>\n",
       "      <td>0</td>\n",
       "      <td>0</td>\n",
       "      <td>0</td>\n",
       "      <td>1</td>\n",
       "      <td>0</td>\n",
       "      <td>0</td>\n",
       "      <td>1</td>\n",
       "    </tr>\n",
       "    <tr>\n",
       "      <th>2</th>\n",
       "      <td>0</td>\n",
       "      <td>0</td>\n",
       "      <td>0</td>\n",
       "      <td>0</td>\n",
       "      <td>0</td>\n",
       "      <td>1</td>\n",
       "      <td>0</td>\n",
       "      <td>0</td>\n",
       "      <td>0</td>\n",
       "      <td>0</td>\n",
       "      <td>0</td>\n",
       "      <td>2</td>\n",
       "      <td>1253</td>\n",
       "      <td>1572</td>\n",
       "      <td>1890</td>\n",
       "      <td>1731</td>\n",
       "      <td>2015-04-01</td>\n",
       "      <td>0</td>\n",
       "      <td>0</td>\n",
       "      <td>0</td>\n",
       "      <td>1</td>\n",
       "      <td>0</td>\n",
       "      <td>1</td>\n",
       "      <td>0</td>\n",
       "    </tr>\n",
       "    <tr>\n",
       "      <th>3</th>\n",
       "      <td>0</td>\n",
       "      <td>0</td>\n",
       "      <td>0</td>\n",
       "      <td>0</td>\n",
       "      <td>0</td>\n",
       "      <td>1</td>\n",
       "      <td>0</td>\n",
       "      <td>0</td>\n",
       "      <td>0</td>\n",
       "      <td>0</td>\n",
       "      <td>0</td>\n",
       "      <td>2</td>\n",
       "      <td>387</td>\n",
       "      <td>1750</td>\n",
       "      <td>2220</td>\n",
       "      <td>1999</td>\n",
       "      <td>2016-04-01</td>\n",
       "      <td>0</td>\n",
       "      <td>0</td>\n",
       "      <td>0</td>\n",
       "      <td>1</td>\n",
       "      <td>0</td>\n",
       "      <td>0</td>\n",
       "      <td>1</td>\n",
       "    </tr>\n",
       "    <tr>\n",
       "      <th>5</th>\n",
       "      <td>0</td>\n",
       "      <td>0</td>\n",
       "      <td>0</td>\n",
       "      <td>0</td>\n",
       "      <td>0</td>\n",
       "      <td>1</td>\n",
       "      <td>0</td>\n",
       "      <td>0</td>\n",
       "      <td>0</td>\n",
       "      <td>0</td>\n",
       "      <td>1</td>\n",
       "      <td>0</td>\n",
       "      <td>2093</td>\n",
       "      <td>1695</td>\n",
       "      <td>2454</td>\n",
       "      <td>2119</td>\n",
       "      <td>2016-04-01</td>\n",
       "      <td>0</td>\n",
       "      <td>0</td>\n",
       "      <td>0</td>\n",
       "      <td>1</td>\n",
       "      <td>0</td>\n",
       "      <td>0</td>\n",
       "      <td>1</td>\n",
       "    </tr>\n",
       "  </tbody>\n",
       "</table>\n",
       "</div>"
      ],
      "text/plain": [
       "   APMC_0  APMC_1  APMC_2  APMC_3  APMC_4  APMC_5  Commodity_0  Commodity_1  \\\n",
       "0       0       0       0       0       0       1            0            0   \n",
       "1       0       0       0       0       0       1            0            0   \n",
       "2       0       0       0       0       0       1            0            0   \n",
       "3       0       0       0       0       0       1            0            0   \n",
       "5       0       0       0       0       0       1            0            0   \n",
       "\n",
       "   Commodity_2  Commodity_3  Commodity_4  Commodity_5  arrivals_in_qtl  \\\n",
       "0            0            0            0            1               79   \n",
       "1            0            0            0            1              106   \n",
       "2            0            0            0            2             1253   \n",
       "3            0            0            0            2              387   \n",
       "5            0            0            1            0             2093   \n",
       "\n",
       "   min_price  max_price  modal_price       date  district_name_0  \\\n",
       "0       1406       1538         1463 2015-04-01                0   \n",
       "1       1788       1925         1875 2016-04-01                0   \n",
       "2       1572       1890         1731 2015-04-01                0   \n",
       "3       1750       2220         1999 2016-04-01                0   \n",
       "5       1695       2454         2119 2016-04-01                0   \n",
       "\n",
       "   district_name_1  district_name_2  district_name_3  Year_2014  Year_2015  \\\n",
       "0                0                0                1          0          1   \n",
       "1                0                0                1          0          0   \n",
       "2                0                0                1          0          1   \n",
       "3                0                0                1          0          0   \n",
       "5                0                0                1          0          0   \n",
       "\n",
       "   Year_2016  \n",
       "0          0  \n",
       "1          1  \n",
       "2          0  \n",
       "3          1  \n",
       "5          1  "
      ]
     },
     "execution_count": 22,
     "metadata": {},
     "output_type": "execute_result"
    }
   ],
   "source": [
    "data_encoded['date'] = pd.to_datetime(data_encoded['date'])\n",
    "data_encoded.head()"
   ]
  },
  {
   "cell_type": "code",
   "execution_count": 23,
   "id": "7160782d",
   "metadata": {},
   "outputs": [
    {
     "data": {
      "text/plain": [
       "APMC_0                      int64\n",
       "APMC_1                      int64\n",
       "APMC_2                      int64\n",
       "APMC_3                      int64\n",
       "APMC_4                      int64\n",
       "APMC_5                      int64\n",
       "Commodity_0                 int64\n",
       "Commodity_1                 int64\n",
       "Commodity_2                 int64\n",
       "Commodity_3                 int64\n",
       "Commodity_4                 int64\n",
       "Commodity_5                 int64\n",
       "arrivals_in_qtl             int64\n",
       "min_price                   int64\n",
       "max_price                   int64\n",
       "modal_price                 int64\n",
       "date               datetime64[ns]\n",
       "district_name_0             int64\n",
       "district_name_1             int64\n",
       "district_name_2             int64\n",
       "district_name_3             int64\n",
       "Year_2014                   uint8\n",
       "Year_2015                   uint8\n",
       "Year_2016                   uint8\n",
       "dtype: object"
      ]
     },
     "execution_count": 23,
     "metadata": {},
     "output_type": "execute_result"
    }
   ],
   "source": [
    "## Data types of the current dataframe\n",
    "data_encoded.dtypes"
   ]
  },
  {
   "cell_type": "markdown",
   "id": "dcaf45d8",
   "metadata": {},
   "source": [
    "### scaling"
   ]
  },
  {
   "cell_type": "code",
   "execution_count": 24,
   "id": "7aa8c75a",
   "metadata": {},
   "outputs": [
    {
     "data": {
      "text/html": [
       "<div>\n",
       "<style scoped>\n",
       "    .dataframe tbody tr th:only-of-type {\n",
       "        vertical-align: middle;\n",
       "    }\n",
       "\n",
       "    .dataframe tbody tr th {\n",
       "        vertical-align: top;\n",
       "    }\n",
       "\n",
       "    .dataframe thead th {\n",
       "        text-align: right;\n",
       "    }\n",
       "</style>\n",
       "<table border=\"1\" class=\"dataframe\">\n",
       "  <thead>\n",
       "    <tr style=\"text-align: right;\">\n",
       "      <th></th>\n",
       "      <th>APMC_0</th>\n",
       "      <th>APMC_1</th>\n",
       "      <th>APMC_2</th>\n",
       "      <th>APMC_3</th>\n",
       "      <th>APMC_4</th>\n",
       "      <th>APMC_5</th>\n",
       "      <th>Commodity_0</th>\n",
       "      <th>Commodity_1</th>\n",
       "      <th>Commodity_2</th>\n",
       "      <th>Commodity_3</th>\n",
       "      <th>Commodity_4</th>\n",
       "      <th>Commodity_5</th>\n",
       "      <th>arrivals_in_qtl</th>\n",
       "      <th>min_price</th>\n",
       "      <th>max_price</th>\n",
       "      <th>modal_price</th>\n",
       "      <th>district_name_0</th>\n",
       "      <th>district_name_1</th>\n",
       "      <th>district_name_2</th>\n",
       "      <th>district_name_3</th>\n",
       "      <th>Year_2014</th>\n",
       "      <th>Year_2015</th>\n",
       "      <th>Year_2016</th>\n",
       "    </tr>\n",
       "  </thead>\n",
       "  <tbody>\n",
       "    <tr>\n",
       "      <th>count</th>\n",
       "      <td>48822.000000</td>\n",
       "      <td>48822.000000</td>\n",
       "      <td>48822.000000</td>\n",
       "      <td>48822.000000</td>\n",
       "      <td>48822.000000</td>\n",
       "      <td>48822.000000</td>\n",
       "      <td>48822.000000</td>\n",
       "      <td>48822.000000</td>\n",
       "      <td>48822.000000</td>\n",
       "      <td>48822.000000</td>\n",
       "      <td>48822.000000</td>\n",
       "      <td>48822.000000</td>\n",
       "      <td>48822.000000</td>\n",
       "      <td>48822.000000</td>\n",
       "      <td>48822.000000</td>\n",
       "      <td>48822.000000</td>\n",
       "      <td>48822.000000</td>\n",
       "      <td>48822.000000</td>\n",
       "      <td>48822.000000</td>\n",
       "      <td>48822.000000</td>\n",
       "      <td>48822.000000</td>\n",
       "      <td>48822.000000</td>\n",
       "      <td>48822.000000</td>\n",
       "    </tr>\n",
       "    <tr>\n",
       "      <th>mean</th>\n",
       "      <td>0.323584</td>\n",
       "      <td>0.661382</td>\n",
       "      <td>0.964811</td>\n",
       "      <td>0.809000</td>\n",
       "      <td>0.912724</td>\n",
       "      <td>0.957232</td>\n",
       "      <td>0.010385</td>\n",
       "      <td>0.169288</td>\n",
       "      <td>0.521179</td>\n",
       "      <td>0.616239</td>\n",
       "      <td>0.837778</td>\n",
       "      <td>1.127832</td>\n",
       "      <td>434.456925</td>\n",
       "      <td>2518.195916</td>\n",
       "      <td>3091.000922</td>\n",
       "      <td>2820.794969</td>\n",
       "      <td>0.219082</td>\n",
       "      <td>0.835771</td>\n",
       "      <td>0.897034</td>\n",
       "      <td>0.827926</td>\n",
       "      <td>0.130474</td>\n",
       "      <td>0.410614</td>\n",
       "      <td>0.458912</td>\n",
       "    </tr>\n",
       "    <tr>\n",
       "      <th>std</th>\n",
       "      <td>0.467848</td>\n",
       "      <td>0.826404</td>\n",
       "      <td>0.802609</td>\n",
       "      <td>0.789335</td>\n",
       "      <td>0.806117</td>\n",
       "      <td>0.779264</td>\n",
       "      <td>0.101376</td>\n",
       "      <td>0.471898</td>\n",
       "      <td>0.738271</td>\n",
       "      <td>0.762540</td>\n",
       "      <td>0.769271</td>\n",
       "      <td>0.834411</td>\n",
       "      <td>679.713121</td>\n",
       "      <td>1781.338440</td>\n",
       "      <td>1926.575827</td>\n",
       "      <td>1845.320987</td>\n",
       "      <td>0.413628</td>\n",
       "      <td>0.900435</td>\n",
       "      <td>0.795764</td>\n",
       "      <td>0.782291</td>\n",
       "      <td>0.336828</td>\n",
       "      <td>0.491950</td>\n",
       "      <td>0.498314</td>\n",
       "    </tr>\n",
       "    <tr>\n",
       "      <th>min</th>\n",
       "      <td>0.000000</td>\n",
       "      <td>0.000000</td>\n",
       "      <td>0.000000</td>\n",
       "      <td>0.000000</td>\n",
       "      <td>0.000000</td>\n",
       "      <td>0.000000</td>\n",
       "      <td>0.000000</td>\n",
       "      <td>0.000000</td>\n",
       "      <td>0.000000</td>\n",
       "      <td>0.000000</td>\n",
       "      <td>0.000000</td>\n",
       "      <td>0.000000</td>\n",
       "      <td>1.000000</td>\n",
       "      <td>0.000000</td>\n",
       "      <td>0.000000</td>\n",
       "      <td>0.000000</td>\n",
       "      <td>0.000000</td>\n",
       "      <td>0.000000</td>\n",
       "      <td>0.000000</td>\n",
       "      <td>0.000000</td>\n",
       "      <td>0.000000</td>\n",
       "      <td>0.000000</td>\n",
       "      <td>0.000000</td>\n",
       "    </tr>\n",
       "    <tr>\n",
       "      <th>25%</th>\n",
       "      <td>0.000000</td>\n",
       "      <td>0.000000</td>\n",
       "      <td>0.000000</td>\n",
       "      <td>0.000000</td>\n",
       "      <td>0.000000</td>\n",
       "      <td>0.000000</td>\n",
       "      <td>0.000000</td>\n",
       "      <td>0.000000</td>\n",
       "      <td>0.000000</td>\n",
       "      <td>0.000000</td>\n",
       "      <td>0.000000</td>\n",
       "      <td>0.000000</td>\n",
       "      <td>27.000000</td>\n",
       "      <td>1265.000000</td>\n",
       "      <td>1574.000000</td>\n",
       "      <td>1446.000000</td>\n",
       "      <td>0.000000</td>\n",
       "      <td>0.000000</td>\n",
       "      <td>0.000000</td>\n",
       "      <td>0.000000</td>\n",
       "      <td>0.000000</td>\n",
       "      <td>0.000000</td>\n",
       "      <td>0.000000</td>\n",
       "    </tr>\n",
       "    <tr>\n",
       "      <th>50%</th>\n",
       "      <td>0.000000</td>\n",
       "      <td>0.000000</td>\n",
       "      <td>1.000000</td>\n",
       "      <td>1.000000</td>\n",
       "      <td>1.000000</td>\n",
       "      <td>1.000000</td>\n",
       "      <td>0.000000</td>\n",
       "      <td>0.000000</td>\n",
       "      <td>0.000000</td>\n",
       "      <td>0.000000</td>\n",
       "      <td>1.000000</td>\n",
       "      <td>1.000000</td>\n",
       "      <td>126.000000</td>\n",
       "      <td>1820.000000</td>\n",
       "      <td>2571.000000</td>\n",
       "      <td>2223.000000</td>\n",
       "      <td>0.000000</td>\n",
       "      <td>0.000000</td>\n",
       "      <td>1.000000</td>\n",
       "      <td>1.000000</td>\n",
       "      <td>0.000000</td>\n",
       "      <td>0.000000</td>\n",
       "      <td>0.000000</td>\n",
       "    </tr>\n",
       "    <tr>\n",
       "      <th>75%</th>\n",
       "      <td>1.000000</td>\n",
       "      <td>1.000000</td>\n",
       "      <td>2.000000</td>\n",
       "      <td>1.000000</td>\n",
       "      <td>2.000000</td>\n",
       "      <td>2.000000</td>\n",
       "      <td>0.000000</td>\n",
       "      <td>0.000000</td>\n",
       "      <td>1.000000</td>\n",
       "      <td>1.000000</td>\n",
       "      <td>1.000000</td>\n",
       "      <td>2.000000</td>\n",
       "      <td>510.000000</td>\n",
       "      <td>3508.000000</td>\n",
       "      <td>4225.000000</td>\n",
       "      <td>3901.000000</td>\n",
       "      <td>0.000000</td>\n",
       "      <td>2.000000</td>\n",
       "      <td>2.000000</td>\n",
       "      <td>1.000000</td>\n",
       "      <td>0.000000</td>\n",
       "      <td>1.000000</td>\n",
       "      <td>1.000000</td>\n",
       "    </tr>\n",
       "    <tr>\n",
       "      <th>max</th>\n",
       "      <td>1.000000</td>\n",
       "      <td>2.000000</td>\n",
       "      <td>2.000000</td>\n",
       "      <td>2.000000</td>\n",
       "      <td>2.000000</td>\n",
       "      <td>2.000000</td>\n",
       "      <td>1.000000</td>\n",
       "      <td>2.000000</td>\n",
       "      <td>2.000000</td>\n",
       "      <td>2.000000</td>\n",
       "      <td>2.000000</td>\n",
       "      <td>2.000000</td>\n",
       "      <td>3353.000000</td>\n",
       "      <td>7892.000000</td>\n",
       "      <td>8760.000000</td>\n",
       "      <td>7825.000000</td>\n",
       "      <td>1.000000</td>\n",
       "      <td>2.000000</td>\n",
       "      <td>2.000000</td>\n",
       "      <td>2.000000</td>\n",
       "      <td>1.000000</td>\n",
       "      <td>1.000000</td>\n",
       "      <td>1.000000</td>\n",
       "    </tr>\n",
       "  </tbody>\n",
       "</table>\n",
       "</div>"
      ],
      "text/plain": [
       "             APMC_0        APMC_1        APMC_2        APMC_3        APMC_4  \\\n",
       "count  48822.000000  48822.000000  48822.000000  48822.000000  48822.000000   \n",
       "mean       0.323584      0.661382      0.964811      0.809000      0.912724   \n",
       "std        0.467848      0.826404      0.802609      0.789335      0.806117   \n",
       "min        0.000000      0.000000      0.000000      0.000000      0.000000   \n",
       "25%        0.000000      0.000000      0.000000      0.000000      0.000000   \n",
       "50%        0.000000      0.000000      1.000000      1.000000      1.000000   \n",
       "75%        1.000000      1.000000      2.000000      1.000000      2.000000   \n",
       "max        1.000000      2.000000      2.000000      2.000000      2.000000   \n",
       "\n",
       "             APMC_5   Commodity_0   Commodity_1   Commodity_2   Commodity_3  \\\n",
       "count  48822.000000  48822.000000  48822.000000  48822.000000  48822.000000   \n",
       "mean       0.957232      0.010385      0.169288      0.521179      0.616239   \n",
       "std        0.779264      0.101376      0.471898      0.738271      0.762540   \n",
       "min        0.000000      0.000000      0.000000      0.000000      0.000000   \n",
       "25%        0.000000      0.000000      0.000000      0.000000      0.000000   \n",
       "50%        1.000000      0.000000      0.000000      0.000000      0.000000   \n",
       "75%        2.000000      0.000000      0.000000      1.000000      1.000000   \n",
       "max        2.000000      1.000000      2.000000      2.000000      2.000000   \n",
       "\n",
       "        Commodity_4   Commodity_5  arrivals_in_qtl     min_price  \\\n",
       "count  48822.000000  48822.000000     48822.000000  48822.000000   \n",
       "mean       0.837778      1.127832       434.456925   2518.195916   \n",
       "std        0.769271      0.834411       679.713121   1781.338440   \n",
       "min        0.000000      0.000000         1.000000      0.000000   \n",
       "25%        0.000000      0.000000        27.000000   1265.000000   \n",
       "50%        1.000000      1.000000       126.000000   1820.000000   \n",
       "75%        1.000000      2.000000       510.000000   3508.000000   \n",
       "max        2.000000      2.000000      3353.000000   7892.000000   \n",
       "\n",
       "          max_price   modal_price  district_name_0  district_name_1  \\\n",
       "count  48822.000000  48822.000000     48822.000000     48822.000000   \n",
       "mean    3091.000922   2820.794969         0.219082         0.835771   \n",
       "std     1926.575827   1845.320987         0.413628         0.900435   \n",
       "min        0.000000      0.000000         0.000000         0.000000   \n",
       "25%     1574.000000   1446.000000         0.000000         0.000000   \n",
       "50%     2571.000000   2223.000000         0.000000         0.000000   \n",
       "75%     4225.000000   3901.000000         0.000000         2.000000   \n",
       "max     8760.000000   7825.000000         1.000000         2.000000   \n",
       "\n",
       "       district_name_2  district_name_3     Year_2014     Year_2015  \\\n",
       "count     48822.000000     48822.000000  48822.000000  48822.000000   \n",
       "mean          0.897034         0.827926      0.130474      0.410614   \n",
       "std           0.795764         0.782291      0.336828      0.491950   \n",
       "min           0.000000         0.000000      0.000000      0.000000   \n",
       "25%           0.000000         0.000000      0.000000      0.000000   \n",
       "50%           1.000000         1.000000      0.000000      0.000000   \n",
       "75%           2.000000         1.000000      0.000000      1.000000   \n",
       "max           2.000000         2.000000      1.000000      1.000000   \n",
       "\n",
       "          Year_2016  \n",
       "count  48822.000000  \n",
       "mean       0.458912  \n",
       "std        0.498314  \n",
       "min        0.000000  \n",
       "25%        0.000000  \n",
       "50%        0.000000  \n",
       "75%        1.000000  \n",
       "max        1.000000  "
      ]
     },
     "execution_count": 24,
     "metadata": {},
     "output_type": "execute_result"
    }
   ],
   "source": [
    "data_encoded.describe()"
   ]
  },
  {
   "cell_type": "markdown",
   "id": "b232de27",
   "metadata": {},
   "source": [
    "### e.Normalization"
   ]
  },
  {
   "cell_type": "code",
   "execution_count": 25,
   "id": "0fa2d076",
   "metadata": {},
   "outputs": [
    {
     "data": {
      "text/html": [
       "<div>\n",
       "<style scoped>\n",
       "    .dataframe tbody tr th:only-of-type {\n",
       "        vertical-align: middle;\n",
       "    }\n",
       "\n",
       "    .dataframe tbody tr th {\n",
       "        vertical-align: top;\n",
       "    }\n",
       "\n",
       "    .dataframe thead th {\n",
       "        text-align: right;\n",
       "    }\n",
       "</style>\n",
       "<table border=\"1\" class=\"dataframe\">\n",
       "  <thead>\n",
       "    <tr style=\"text-align: right;\">\n",
       "      <th></th>\n",
       "      <th>APMC_0</th>\n",
       "      <th>APMC_1</th>\n",
       "      <th>APMC_2</th>\n",
       "      <th>APMC_3</th>\n",
       "      <th>APMC_4</th>\n",
       "      <th>APMC_5</th>\n",
       "      <th>Commodity_0</th>\n",
       "      <th>Commodity_1</th>\n",
       "      <th>Commodity_2</th>\n",
       "      <th>Commodity_3</th>\n",
       "      <th>Commodity_4</th>\n",
       "      <th>Commodity_5</th>\n",
       "      <th>arrivals_in_qtl</th>\n",
       "      <th>min_price</th>\n",
       "      <th>max_price</th>\n",
       "      <th>modal_price</th>\n",
       "      <th>date</th>\n",
       "      <th>district_name_0</th>\n",
       "      <th>district_name_1</th>\n",
       "      <th>district_name_2</th>\n",
       "      <th>district_name_3</th>\n",
       "      <th>Year_2014</th>\n",
       "      <th>Year_2015</th>\n",
       "      <th>Year_2016</th>\n",
       "    </tr>\n",
       "  </thead>\n",
       "  <tbody>\n",
       "    <tr>\n",
       "      <th>0</th>\n",
       "      <td>0</td>\n",
       "      <td>0</td>\n",
       "      <td>0</td>\n",
       "      <td>0</td>\n",
       "      <td>0</td>\n",
       "      <td>1</td>\n",
       "      <td>0</td>\n",
       "      <td>0</td>\n",
       "      <td>0</td>\n",
       "      <td>0</td>\n",
       "      <td>0</td>\n",
       "      <td>1</td>\n",
       "      <td>0.023270</td>\n",
       "      <td>0.178155</td>\n",
       "      <td>0.175571</td>\n",
       "      <td>0.186965</td>\n",
       "      <td>2015-04-01</td>\n",
       "      <td>0</td>\n",
       "      <td>0</td>\n",
       "      <td>0</td>\n",
       "      <td>1</td>\n",
       "      <td>0</td>\n",
       "      <td>1</td>\n",
       "      <td>0</td>\n",
       "    </tr>\n",
       "    <tr>\n",
       "      <th>1</th>\n",
       "      <td>0</td>\n",
       "      <td>0</td>\n",
       "      <td>0</td>\n",
       "      <td>0</td>\n",
       "      <td>0</td>\n",
       "      <td>1</td>\n",
       "      <td>0</td>\n",
       "      <td>0</td>\n",
       "      <td>0</td>\n",
       "      <td>0</td>\n",
       "      <td>0</td>\n",
       "      <td>1</td>\n",
       "      <td>0.031325</td>\n",
       "      <td>0.226559</td>\n",
       "      <td>0.219749</td>\n",
       "      <td>0.239617</td>\n",
       "      <td>2016-04-01</td>\n",
       "      <td>0</td>\n",
       "      <td>0</td>\n",
       "      <td>0</td>\n",
       "      <td>1</td>\n",
       "      <td>0</td>\n",
       "      <td>0</td>\n",
       "      <td>1</td>\n",
       "    </tr>\n",
       "    <tr>\n",
       "      <th>2</th>\n",
       "      <td>0</td>\n",
       "      <td>0</td>\n",
       "      <td>0</td>\n",
       "      <td>0</td>\n",
       "      <td>0</td>\n",
       "      <td>1</td>\n",
       "      <td>0</td>\n",
       "      <td>0</td>\n",
       "      <td>0</td>\n",
       "      <td>0</td>\n",
       "      <td>0</td>\n",
       "      <td>2</td>\n",
       "      <td>0.373508</td>\n",
       "      <td>0.199189</td>\n",
       "      <td>0.215753</td>\n",
       "      <td>0.221214</td>\n",
       "      <td>2015-04-01</td>\n",
       "      <td>0</td>\n",
       "      <td>0</td>\n",
       "      <td>0</td>\n",
       "      <td>1</td>\n",
       "      <td>0</td>\n",
       "      <td>1</td>\n",
       "      <td>0</td>\n",
       "    </tr>\n",
       "    <tr>\n",
       "      <th>3</th>\n",
       "      <td>0</td>\n",
       "      <td>0</td>\n",
       "      <td>0</td>\n",
       "      <td>0</td>\n",
       "      <td>0</td>\n",
       "      <td>1</td>\n",
       "      <td>0</td>\n",
       "      <td>0</td>\n",
       "      <td>0</td>\n",
       "      <td>0</td>\n",
       "      <td>0</td>\n",
       "      <td>2</td>\n",
       "      <td>0.115155</td>\n",
       "      <td>0.221744</td>\n",
       "      <td>0.253425</td>\n",
       "      <td>0.255463</td>\n",
       "      <td>2016-04-01</td>\n",
       "      <td>0</td>\n",
       "      <td>0</td>\n",
       "      <td>0</td>\n",
       "      <td>1</td>\n",
       "      <td>0</td>\n",
       "      <td>0</td>\n",
       "      <td>1</td>\n",
       "    </tr>\n",
       "    <tr>\n",
       "      <th>5</th>\n",
       "      <td>0</td>\n",
       "      <td>0</td>\n",
       "      <td>0</td>\n",
       "      <td>0</td>\n",
       "      <td>0</td>\n",
       "      <td>1</td>\n",
       "      <td>0</td>\n",
       "      <td>0</td>\n",
       "      <td>0</td>\n",
       "      <td>0</td>\n",
       "      <td>1</td>\n",
       "      <td>0</td>\n",
       "      <td>0.624105</td>\n",
       "      <td>0.214774</td>\n",
       "      <td>0.280137</td>\n",
       "      <td>0.270799</td>\n",
       "      <td>2016-04-01</td>\n",
       "      <td>0</td>\n",
       "      <td>0</td>\n",
       "      <td>0</td>\n",
       "      <td>1</td>\n",
       "      <td>0</td>\n",
       "      <td>0</td>\n",
       "      <td>1</td>\n",
       "    </tr>\n",
       "  </tbody>\n",
       "</table>\n",
       "</div>"
      ],
      "text/plain": [
       "   APMC_0  APMC_1  APMC_2  APMC_3  APMC_4  APMC_5  Commodity_0  Commodity_1  \\\n",
       "0       0       0       0       0       0       1            0            0   \n",
       "1       0       0       0       0       0       1            0            0   \n",
       "2       0       0       0       0       0       1            0            0   \n",
       "3       0       0       0       0       0       1            0            0   \n",
       "5       0       0       0       0       0       1            0            0   \n",
       "\n",
       "   Commodity_2  Commodity_3  Commodity_4  Commodity_5  arrivals_in_qtl  \\\n",
       "0            0            0            0            1         0.023270   \n",
       "1            0            0            0            1         0.031325   \n",
       "2            0            0            0            2         0.373508   \n",
       "3            0            0            0            2         0.115155   \n",
       "5            0            0            1            0         0.624105   \n",
       "\n",
       "   min_price  max_price  modal_price       date  district_name_0  \\\n",
       "0   0.178155   0.175571     0.186965 2015-04-01                0   \n",
       "1   0.226559   0.219749     0.239617 2016-04-01                0   \n",
       "2   0.199189   0.215753     0.221214 2015-04-01                0   \n",
       "3   0.221744   0.253425     0.255463 2016-04-01                0   \n",
       "5   0.214774   0.280137     0.270799 2016-04-01                0   \n",
       "\n",
       "   district_name_1  district_name_2  district_name_3  Year_2014  Year_2015  \\\n",
       "0                0                0                1          0          1   \n",
       "1                0                0                1          0          0   \n",
       "2                0                0                1          0          1   \n",
       "3                0                0                1          0          0   \n",
       "5                0                0                1          0          0   \n",
       "\n",
       "   Year_2016  \n",
       "0          0  \n",
       "1          1  \n",
       "2          0  \n",
       "3          1  \n",
       "5          1  "
      ]
     },
     "execution_count": 25,
     "metadata": {},
     "output_type": "execute_result"
    }
   ],
   "source": [
    "## min max scalar\n",
    "data_min_max_scaled=data_encoded.copy()\n",
    "columns=['arrivals_in_qtl','min_price','max_price','modal_price']\n",
    "##\n",
    "for column in columns:\n",
    "    data_min_max_scaled[column] = (data_min_max_scaled[column] - data_min_max_scaled[column].min()) / (data_min_max_scaled[column].max() - data_min_max_scaled[column].min())    \n",
    "##\n",
    "data_min_max_scaled.head()\n",
    "    "
   ]
  },
  {
   "cell_type": "markdown",
   "id": "83425b6c",
   "metadata": {},
   "source": [
    "## 3. Exploratory Data Analysis (EDA)\n"
   ]
  },
  {
   "cell_type": "code",
   "execution_count": 26,
   "id": "9a13806b",
   "metadata": {},
   "outputs": [
    {
     "data": {
      "text/plain": [
       "district_name\n",
       "Pune          12959479\n",
       "Ahmadnagar    10344726\n",
       "Solapur        8674447\n",
       "Nagpur         8237662\n",
       "Nasik          7533473\n",
       "Buldhana       6555445\n",
       "Satara         6366674\n",
       "Jalgaon        6256608\n",
       "Amaravathi     6099255\n",
       "Beed           5346868\n",
       "Name: modal_price, dtype: int64"
      ]
     },
     "execution_count": 26,
     "metadata": {},
     "output_type": "execute_result"
    }
   ],
   "source": [
    "## Top 10 districts in terms of model_price\n",
    "data['modal_price'].groupby(data['district_name']).sum().sort_values(ascending=False).head(10)"
   ]
  },
  {
   "cell_type": "code",
   "execution_count": 27,
   "id": "28862a4b",
   "metadata": {},
   "outputs": [
    {
     "data": {
      "text/plain": [
       "Month\n",
       "September    15107217\n",
       "November     14912368\n",
       "October      14305179\n",
       "June         12262494\n",
       "July         11150946\n",
       "August       10793616\n",
       "May          10585877\n",
       "January      10113101\n",
       "December      9894654\n",
       "March         9657496\n",
       "February      9524624\n",
       "April         9409280\n",
       "Name: modal_price, dtype: int64"
      ]
     },
     "execution_count": 27,
     "metadata": {},
     "output_type": "execute_result"
    }
   ],
   "source": [
    "## Highest modal_price month_wise\n",
    "data['modal_price'].groupby(data['Month']).sum().sort_values(ascending=False).head(12)"
   ]
  },
  {
   "cell_type": "code",
   "execution_count": 28,
   "id": "ae802b18",
   "metadata": {},
   "outputs": [],
   "source": [
    "## Creating a copy\n",
    "df=data.copy()"
   ]
  },
  {
   "cell_type": "code",
   "execution_count": 29,
   "id": "84053a6e",
   "metadata": {},
   "outputs": [],
   "source": [
    "## Creating a dictionary of months\n",
    "mon={'January':1,'February':2,'March':3,'April':4,'May':5,'June':6,'July':7,'August':8,'September':9,'October':10,'November':11,'December':12}"
   ]
  },
  {
   "cell_type": "code",
   "execution_count": 30,
   "id": "d99b3276",
   "metadata": {},
   "outputs": [],
   "source": [
    "## Mapping Month column with mon dictionary\n",
    "df['Month'] = df['Month'].map(mon)"
   ]
  },
  {
   "cell_type": "code",
   "execution_count": 31,
   "id": "f1a3399a",
   "metadata": {},
   "outputs": [
    {
     "data": {
      "text/html": [
       "<div>\n",
       "<style scoped>\n",
       "    .dataframe tbody tr th:only-of-type {\n",
       "        vertical-align: middle;\n",
       "    }\n",
       "\n",
       "    .dataframe tbody tr th {\n",
       "        vertical-align: top;\n",
       "    }\n",
       "\n",
       "    .dataframe thead th {\n",
       "        text-align: right;\n",
       "    }\n",
       "</style>\n",
       "<table border=\"1\" class=\"dataframe\">\n",
       "  <thead>\n",
       "    <tr style=\"text-align: right;\">\n",
       "      <th></th>\n",
       "      <th>APMC</th>\n",
       "      <th>Commodity</th>\n",
       "      <th>Month</th>\n",
       "      <th>arrivals_in_qtl</th>\n",
       "      <th>min_price</th>\n",
       "      <th>max_price</th>\n",
       "      <th>modal_price</th>\n",
       "      <th>date</th>\n",
       "      <th>district_name</th>\n",
       "      <th>state_name</th>\n",
       "      <th>Year_2014</th>\n",
       "      <th>Year_2015</th>\n",
       "      <th>Year_2016</th>\n",
       "    </tr>\n",
       "  </thead>\n",
       "  <tbody>\n",
       "    <tr>\n",
       "      <th>0</th>\n",
       "      <td>Ahmednagar</td>\n",
       "      <td>Bajri</td>\n",
       "      <td>4</td>\n",
       "      <td>79</td>\n",
       "      <td>1406</td>\n",
       "      <td>1538</td>\n",
       "      <td>1463</td>\n",
       "      <td>2015-04</td>\n",
       "      <td>Ahmadnagar</td>\n",
       "      <td>Maharashtra</td>\n",
       "      <td>0</td>\n",
       "      <td>1</td>\n",
       "      <td>0</td>\n",
       "    </tr>\n",
       "    <tr>\n",
       "      <th>1</th>\n",
       "      <td>Ahmednagar</td>\n",
       "      <td>Bajri</td>\n",
       "      <td>4</td>\n",
       "      <td>106</td>\n",
       "      <td>1788</td>\n",
       "      <td>1925</td>\n",
       "      <td>1875</td>\n",
       "      <td>2016-04</td>\n",
       "      <td>Ahmadnagar</td>\n",
       "      <td>Maharashtra</td>\n",
       "      <td>0</td>\n",
       "      <td>0</td>\n",
       "      <td>1</td>\n",
       "    </tr>\n",
       "    <tr>\n",
       "      <th>2</th>\n",
       "      <td>Ahmednagar</td>\n",
       "      <td>Wheat(Husked)</td>\n",
       "      <td>4</td>\n",
       "      <td>1253</td>\n",
       "      <td>1572</td>\n",
       "      <td>1890</td>\n",
       "      <td>1731</td>\n",
       "      <td>2015-04</td>\n",
       "      <td>Ahmadnagar</td>\n",
       "      <td>Maharashtra</td>\n",
       "      <td>0</td>\n",
       "      <td>1</td>\n",
       "      <td>0</td>\n",
       "    </tr>\n",
       "    <tr>\n",
       "      <th>3</th>\n",
       "      <td>Ahmednagar</td>\n",
       "      <td>Wheat(Husked)</td>\n",
       "      <td>4</td>\n",
       "      <td>387</td>\n",
       "      <td>1750</td>\n",
       "      <td>2220</td>\n",
       "      <td>1999</td>\n",
       "      <td>2016-04</td>\n",
       "      <td>Ahmadnagar</td>\n",
       "      <td>Maharashtra</td>\n",
       "      <td>0</td>\n",
       "      <td>0</td>\n",
       "      <td>1</td>\n",
       "    </tr>\n",
       "    <tr>\n",
       "      <th>5</th>\n",
       "      <td>Ahmednagar</td>\n",
       "      <td>Sorgum(Jawar)</td>\n",
       "      <td>4</td>\n",
       "      <td>2093</td>\n",
       "      <td>1695</td>\n",
       "      <td>2454</td>\n",
       "      <td>2119</td>\n",
       "      <td>2016-04</td>\n",
       "      <td>Ahmadnagar</td>\n",
       "      <td>Maharashtra</td>\n",
       "      <td>0</td>\n",
       "      <td>0</td>\n",
       "      <td>1</td>\n",
       "    </tr>\n",
       "  </tbody>\n",
       "</table>\n",
       "</div>"
      ],
      "text/plain": [
       "         APMC      Commodity  Month  arrivals_in_qtl  min_price  max_price  \\\n",
       "0  Ahmednagar          Bajri      4               79       1406       1538   \n",
       "1  Ahmednagar          Bajri      4              106       1788       1925   \n",
       "2  Ahmednagar  Wheat(Husked)      4             1253       1572       1890   \n",
       "3  Ahmednagar  Wheat(Husked)      4              387       1750       2220   \n",
       "5  Ahmednagar  Sorgum(Jawar)      4             2093       1695       2454   \n",
       "\n",
       "   modal_price     date district_name   state_name  Year_2014  Year_2015  \\\n",
       "0         1463  2015-04    Ahmadnagar  Maharashtra          0          1   \n",
       "1         1875  2016-04    Ahmadnagar  Maharashtra          0          0   \n",
       "2         1731  2015-04    Ahmadnagar  Maharashtra          0          1   \n",
       "3         1999  2016-04    Ahmadnagar  Maharashtra          0          0   \n",
       "5         2119  2016-04    Ahmadnagar  Maharashtra          0          0   \n",
       "\n",
       "   Year_2016  \n",
       "0          0  \n",
       "1          1  \n",
       "2          0  \n",
       "3          1  \n",
       "5          1  "
      ]
     },
     "execution_count": 31,
     "metadata": {},
     "output_type": "execute_result"
    }
   ],
   "source": [
    "## Output\n",
    "df.head()"
   ]
  },
  {
   "cell_type": "code",
   "execution_count": 32,
   "id": "2946f2cd",
   "metadata": {},
   "outputs": [],
   "source": [
    "df1=df['Commodity'].groupby(df['district_name']).count().reset_index(name='count').sort_values(by=['count'],ascending=False)"
   ]
  },
  {
   "cell_type": "markdown",
   "id": "e69e4a0a",
   "metadata": {},
   "source": [
    "### a.Univariate Analysis\n"
   ]
  },
  {
   "cell_type": "code",
   "execution_count": 35,
   "id": "22ef8a91",
   "metadata": {},
   "outputs": [],
   "source": [
    "df1=df['Commodity'].groupby(df['Commodity']).count().reset_index(name=\"count\").sort_values(by=['count'],ascending=False).head(30)"
   ]
  },
  {
   "cell_type": "code",
   "execution_count": 36,
   "id": "c45a7e86",
   "metadata": {},
   "outputs": [
    {
     "data": {
      "text/plain": [
       "(array([ 0,  1,  2,  3,  4,  5,  6,  7,  8,  9, 10, 11, 12, 13, 14, 15, 16,\n",
       "        17, 18, 19, 20, 21, 22, 23, 24, 25, 26, 27, 28, 29]),\n",
       " [Text(0, 0, 'Wheat(Husked)'),\n",
       "  Text(1, 0, 'Gram'),\n",
       "  Text(2, 0, 'Sorgum(Jawar)'),\n",
       "  Text(3, 0, 'Soybean'),\n",
       "  Text(4, 0, 'Bajri'),\n",
       "  Text(5, 0, 'Maize'),\n",
       "  Text(6, 0, 'Green Gram'),\n",
       "  Text(7, 0, 'Pigeon Pea (Tur)'),\n",
       "  Text(8, 0, 'Ground Nut Pods (Dry)'),\n",
       "  Text(9, 0, 'Black Gram'),\n",
       "  Text(10, 0, 'Brinjal'),\n",
       "  Text(11, 0, 'Ladies Finger'),\n",
       "  Text(12, 0, 'Bitter Gourd'),\n",
       "  Text(13, 0, 'Cabbage'),\n",
       "  Text(14, 0, 'Cucumber'),\n",
       "  Text(15, 0, 'Tomato'),\n",
       "  Text(16, 0, 'Green Chilli'),\n",
       "  Text(17, 0, 'Flower'),\n",
       "  Text(18, 0, 'Cluster Bean'),\n",
       "  Text(19, 0, 'Onion'),\n",
       "  Text(20, 0, 'Capsicum'),\n",
       "  Text(21, 0, 'Bottle Gourd'),\n",
       "  Text(22, 0, 'Paddy-Unhusked'),\n",
       "  Text(23, 0, 'Sunflower'),\n",
       "  Text(24, 0, 'Rice(Paddy-Hus)'),\n",
       "  Text(25, 0, 'Ginger (Fresh)'),\n",
       "  Text(26, 0, 'Potato'),\n",
       "  Text(27, 0, 'Carrot'),\n",
       "  Text(28, 0, 'Lemon'),\n",
       "  Text(29, 0, 'Cotton')])"
      ]
     },
     "execution_count": 36,
     "metadata": {},
     "output_type": "execute_result"
    },
    {
     "data": {
      "image/png": "[encoded data removed]",
      "text/plain": [
       "<Figure size 1080x576 with 1 Axes>"
      ]
     },
     "metadata": {
      "needs_background": "light"
     },
     "output_type": "display_data"
    }
   ],
   "source": [
    "## Top 30 commodity production\n",
    "plt.figure(figsize=(15,8))\n",
    "ax2=sns.barplot(x=\"Commodity\", y=\"count\", data=df1,palette=\"Greens_d\")\n",
    "plt.xticks(rotation=90)\n",
    "\n"
   ]
  },
  {
   "cell_type": "markdown",
   "id": "37587505",
   "metadata": {},
   "source": [
    "From graph :\n",
    "Gram is the most popular commodity cultivated in Maharashtra.\n",
    "\n",
    "          Wheat is the major cereal cultivated in Maharashtra."
   ]
  },
  {
   "cell_type": "code",
   "execution_count": 37,
   "id": "715a510d",
   "metadata": {},
   "outputs": [
    {
     "data": {
      "text/plain": [
       "<AxesSubplot:ylabel='None'>"
      ]
     },
     "execution_count": 37,
     "metadata": {},
     "output_type": "execute_result"
    },
    {
     "data": {
      "image/png": "[encoded data removed]",
      "text/plain": [
       "<Figure size 1440x1440 with 1 Axes>"
      ]
     },
     "metadata": {},
     "output_type": "display_data"
    }
   ],
   "source": [
    "fig = plt.figure(figsize=(20, 20))\n",
    "df.groupby(['district_name']).size().plot(kind = \"pie\")"
   ]
  },
  {
   "cell_type": "markdown",
   "id": "a0c317c5",
   "metadata": {},
   "source": [
    "From graph :\n",
    "Pune has higher cultivation than other districts in Maharashtra.\n",
    "\n",
    "            Almost 28 districts have wide range of commodities cultivated or have more cultivated areas."
   ]
  },
  {
   "cell_type": "markdown",
   "id": "c0e4731a",
   "metadata": {},
   "source": [
    "### b. Bivariate Analysis\n",
    "### i.Heatmap"
   ]
  },
  {
   "cell_type": "code",
   "execution_count": 62,
   "id": "e23ab34e",
   "metadata": {},
   "outputs": [
    {
     "data": {
      "text/plain": [
       "<AxesSubplot:>"
      ]
     },
     "execution_count": 62,
     "metadata": {},
     "output_type": "execute_result"
    },
    {
     "data": {
      "image/png": "[encoded data removed]",
      "text/plain": [
       "<Figure size 1440x1080 with 2 Axes>"
      ]
     },
     "metadata": {
      "needs_background": "light"
     },
     "output_type": "display_data"
    }
   ],
   "source": [
    "corrmatrix=data.corr()\n",
    "plt.subplots(figsize=(20,15))\n",
    "sns.heatmap(corrmatrix,annot=True)"
   ]
  },
  {
   "cell_type": "markdown",
   "id": "16ae941b",
   "metadata": {},
   "source": [
    "## 4.Modelling"
   ]
  },
  {
   "cell_type": "code",
   "execution_count": 39,
   "id": "e5c3469f",
   "metadata": {},
   "outputs": [],
   "source": [
    "## Assigning depended and independent variables\n",
    "y = data_min_max_scaled['modal_price']\n",
    "X = data_min_max_scaled.drop(['modal_price','date'], axis = 1)"
   ]
  },
  {
   "cell_type": "code",
   "execution_count": 40,
   "id": "e9bac25a",
   "metadata": {},
   "outputs": [],
   "source": [
    "#splitting of the data\n",
    "from sklearn.model_selection import train_test_split\n",
    "X_train,X_test,y_train,y_test= train_test_split(X,y, random_state=42,test_size=0.25)"
   ]
  },
  {
   "cell_type": "markdown",
   "id": "9e0d732e",
   "metadata": {},
   "source": [
    "### 1. Linear Regression"
   ]
  },
  {
   "cell_type": "code",
   "execution_count": 41,
   "id": "666bf87a",
   "metadata": {},
   "outputs": [],
   "source": [
    "from sklearn import linear_model \n",
    "lr=linear_model.LinearRegression()\n",
    "model=lr.fit(X_train,y_train) \n",
    "y_pred=lr.predict(X_test)"
   ]
  },
  {
   "cell_type": "code",
   "execution_count": 42,
   "id": "3fa231be",
   "metadata": {},
   "outputs": [
    {
     "name": "stdout",
     "output_type": "stream",
     "text": [
      "MSE is:  0.0007190638690214207\n",
      "r squared: 0.9872817388926115\n"
     ]
    }
   ],
   "source": [
    "## Checking the MSE and r2_score\n",
    "from sklearn.metrics import mean_squared_error,r2_score\n",
    "print(\"MSE is: \",mean_squared_error(y_test,y_pred))\n",
    "print(\"r squared:\",r2_score(y_test,y_pred))"
   ]
  },
  {
   "cell_type": "code",
   "execution_count": 43,
   "id": "099431d0",
   "metadata": {},
   "outputs": [],
   "source": [
    "temp=[]\n",
    "temp.append([\"Linear Regression\",round(mean_squared_error(y_test,y_pred),5),round(r2_score(y_test,y_pred),5)])"
   ]
  },
  {
   "cell_type": "code",
   "execution_count": 44,
   "id": "fe952313",
   "metadata": {},
   "outputs": [
    {
     "data": {
      "text/plain": [
       "6775     0.178914\n",
       "10202    0.469521\n",
       "58181    0.570990\n",
       "8369     0.202939\n",
       "36694    0.203834\n",
       "Name: modal_price, dtype: float64"
      ]
     },
     "execution_count": 44,
     "metadata": {},
     "output_type": "execute_result"
    }
   ],
   "source": [
    "## Checking the y_test\n",
    "y_test[0:5]"
   ]
  },
  {
   "cell_type": "code",
   "execution_count": 45,
   "id": "fce36054",
   "metadata": {},
   "outputs": [
    {
     "data": {
      "text/plain": [
       "array([0.17554806, 0.45950326, 0.56511326, 0.1997121 , 0.20814715])"
      ]
     },
     "execution_count": 45,
     "metadata": {},
     "output_type": "execute_result"
    }
   ],
   "source": [
    "## Checking the y_pred\n",
    "y_pred[0:5]"
   ]
  },
  {
   "cell_type": "markdown",
   "id": "9ffc98be",
   "metadata": {},
   "source": [
    "### 2. SVR"
   ]
  },
  {
   "cell_type": "code",
   "execution_count": 46,
   "id": "cba30a62",
   "metadata": {},
   "outputs": [],
   "source": [
    "from sklearn.svm import SVR\n",
    "\n",
    "# Choose regression method and set hyperparameter\n",
    "svr_rbf=SVR(C=1.0, epsilon=0.2, kernel='rbf')\n",
    "\n",
    "# Training of the regression model\n",
    "svr_rbf.fit(X_train, y_train)\n",
    "y_pred = svr_rbf.predict(X_test)"
   ]
  },
  {
   "cell_type": "code",
   "execution_count": 47,
   "id": "5409fa7d",
   "metadata": {},
   "outputs": [
    {
     "name": "stdout",
     "output_type": "stream",
     "text": [
      "MSE is:  0.009361494479260685\n",
      "r squared: 0.8344209238260769\n"
     ]
    }
   ],
   "source": [
    "print(\"MSE is: \",mean_squared_error(y_test,y_pred))\n",
    "print(\"r squared:\",r2_score(y_test,y_pred))"
   ]
  },
  {
   "cell_type": "code",
   "execution_count": 48,
   "id": "7b846fc7",
   "metadata": {},
   "outputs": [],
   "source": [
    "temp.append([\"SVR\",round(mean_squared_error(y_test,y_pred),5),round(r2_score(y_test,y_pred),5)])"
   ]
  },
  {
   "cell_type": "markdown",
   "id": "fd3eb5b9",
   "metadata": {},
   "source": [
    "### 3. RandomForestRegressor"
   ]
  },
  {
   "cell_type": "code",
   "execution_count": 49,
   "id": "578a283a",
   "metadata": {},
   "outputs": [],
   "source": [
    "from sklearn.ensemble import RandomForestRegressor\n",
    "rm=RandomForestRegressor()\n",
    "rm.fit(X_train,y_train)\n",
    "\n",
    "y_pred=rm.predict(X_test)"
   ]
  },
  {
   "cell_type": "code",
   "execution_count": 50,
   "id": "5af30b33",
   "metadata": {},
   "outputs": [
    {
     "name": "stdout",
     "output_type": "stream",
     "text": [
      "MSE is:  0.0005110648135897307\n",
      "r squared: 0.9909606698068716\n"
     ]
    }
   ],
   "source": [
    "print(\"MSE is: \",mean_squared_error(y_test,y_pred))\n",
    "print(\"r squared:\",r2_score(y_test,y_pred))"
   ]
  },
  {
   "cell_type": "code",
   "execution_count": 51,
   "id": "4e5b3c9a",
   "metadata": {},
   "outputs": [],
   "source": [
    "temp.append([\"RandomForestRegressor\",round(mean_squared_error(y_test,y_pred),5),round(r2_score(y_test,y_pred),5)])"
   ]
  },
  {
   "cell_type": "markdown",
   "id": "4c116c58",
   "metadata": {},
   "source": [
    "### 4. DecisionTreeRegressor"
   ]
  },
  {
   "cell_type": "code",
   "execution_count": 52,
   "id": "92821f96",
   "metadata": {},
   "outputs": [],
   "source": [
    "from sklearn.tree import DecisionTreeRegressor\n",
    "\n",
    "# Build decision tree\n",
    "tree=DecisionTreeRegressor()\n",
    "tree.fit(X_train,y_train)\n",
    "y_pred=tree.predict(X_test)"
   ]
  },
  {
   "cell_type": "code",
   "execution_count": 53,
   "id": "8eb7d3d2",
   "metadata": {},
   "outputs": [
    {
     "name": "stdout",
     "output_type": "stream",
     "text": [
      "MSE is:  0.000926724832302611\n",
      "r squared: 0.9836087878981243\n"
     ]
    }
   ],
   "source": [
    "print(\"MSE is: \",mean_squared_error(y_test,y_pred))\n",
    "print(\"r squared:\",r2_score(y_test,y_pred))"
   ]
  },
  {
   "cell_type": "code",
   "execution_count": 54,
   "id": "12966777",
   "metadata": {},
   "outputs": [],
   "source": [
    "temp.append([\"DecisionTreeRegressor\",round(mean_squared_error(y_test,y_pred),5),round(r2_score(y_test,y_pred),5)])"
   ]
  },
  {
   "cell_type": "code",
   "execution_count": 55,
   "id": "ccd0ca49",
   "metadata": {},
   "outputs": [],
   "source": [
    "df8 = pd.DataFrame(temp, columns = ['Algorithms', 'MSE','r2_score'])"
   ]
  },
  {
   "cell_type": "code",
   "execution_count": 56,
   "id": "c94b8826",
   "metadata": {},
   "outputs": [
    {
     "data": {
      "text/html": [
       "<div>\n",
       "<style scoped>\n",
       "    .dataframe tbody tr th:only-of-type {\n",
       "        vertical-align: middle;\n",
       "    }\n",
       "\n",
       "    .dataframe tbody tr th {\n",
       "        vertical-align: top;\n",
       "    }\n",
       "\n",
       "    .dataframe thead th {\n",
       "        text-align: right;\n",
       "    }\n",
       "</style>\n",
       "<table border=\"1\" class=\"dataframe\">\n",
       "  <thead>\n",
       "    <tr style=\"text-align: right;\">\n",
       "      <th></th>\n",
       "      <th>Algorithms</th>\n",
       "      <th>MSE</th>\n",
       "      <th>r2_score</th>\n",
       "    </tr>\n",
       "  </thead>\n",
       "  <tbody>\n",
       "    <tr>\n",
       "      <th>2</th>\n",
       "      <td>RandomForestRegressor</td>\n",
       "      <td>0.00051</td>\n",
       "      <td>0.99096</td>\n",
       "    </tr>\n",
       "    <tr>\n",
       "      <th>0</th>\n",
       "      <td>Linear Regression</td>\n",
       "      <td>0.00072</td>\n",
       "      <td>0.98728</td>\n",
       "    </tr>\n",
       "    <tr>\n",
       "      <th>3</th>\n",
       "      <td>DecisionTreeRegressor</td>\n",
       "      <td>0.00093</td>\n",
       "      <td>0.98361</td>\n",
       "    </tr>\n",
       "    <tr>\n",
       "      <th>1</th>\n",
       "      <td>SVR</td>\n",
       "      <td>0.00936</td>\n",
       "      <td>0.83442</td>\n",
       "    </tr>\n",
       "  </tbody>\n",
       "</table>\n",
       "</div>"
      ],
      "text/plain": [
       "              Algorithms      MSE  r2_score\n",
       "2  RandomForestRegressor  0.00051   0.99096\n",
       "0      Linear Regression  0.00072   0.98728\n",
       "3  DecisionTreeRegressor  0.00093   0.98361\n",
       "1                    SVR  0.00936   0.83442"
      ]
     },
     "execution_count": 56,
     "metadata": {},
     "output_type": "execute_result"
    }
   ],
   "source": [
    "df8.sort_values(by=['MSE','r2_score'])"
   ]
  },
  {
   "cell_type": "markdown",
   "id": "6f0b4a7f",
   "metadata": {},
   "source": [
    "From above RandomForestRegressor has lowest MSE and highest r2_score. So it is the best algorithm for this problem."
   ]
  },
  {
   "cell_type": "markdown",
   "id": "defe4c71",
   "metadata": {},
   "source": [
    "## 5. Model Fine Tuning"
   ]
  },
  {
   "cell_type": "code",
   "execution_count": 57,
   "id": "c86d7b2a",
   "metadata": {},
   "outputs": [],
   "source": [
    "## Using gridsearch to find the best parameters\n",
    "from sklearn.model_selection import GridSearchCV\n",
    "\n",
    "param_grid = {  'bootstrap': [True,False], 'max_features': ['auto', 'log2','sqrt'], 'n_estimators': [100,150]}"
   ]
  },
  {
   "cell_type": "code",
   "execution_count": 58,
   "id": "b270b3da",
   "metadata": {},
   "outputs": [],
   "source": [
    "g_search = GridSearchCV(estimator = rm, param_grid = param_grid,cv = 3, n_jobs = 1, verbose = 0, return_train_score=True)"
   ]
  },
  {
   "cell_type": "code",
   "execution_count": 59,
   "id": "385ab89c",
   "metadata": {},
   "outputs": [
    {
     "name": "stdout",
     "output_type": "stream",
     "text": [
      "{'bootstrap': True, 'max_features': 'auto', 'n_estimators': 150}\n"
     ]
    }
   ],
   "source": [
    "## Fitting and printing the best parameters\n",
    "g_search.fit(X_train, y_train);\n",
    "print(g_search.best_params_)"
   ]
  },
  {
   "cell_type": "markdown",
   "id": "18b7ec5c",
   "metadata": {},
   "source": [
    "Applying these features to check if there is an increase."
   ]
  },
  {
   "cell_type": "code",
   "execution_count": 60,
   "id": "ac5c3e2f",
   "metadata": {},
   "outputs": [],
   "source": [
    "rm=RandomForestRegressor(bootstrap=True, max_features='auto',n_estimators=150)\n",
    "rm.fit(X_train,y_train)\n",
    "\n",
    "y_pred=rm.predict(X_test)"
   ]
  },
  {
   "cell_type": "code",
   "execution_count": 61,
   "id": "9fc25319",
   "metadata": {},
   "outputs": [
    {
     "name": "stdout",
     "output_type": "stream",
     "text": [
      "MSE is:  0.000510590871856524\n",
      "r squared: 0.9909690525319289\n"
     ]
    }
   ],
   "source": [
    "## slight improvement\n",
    "print(\"MSE is: \",mean_squared_error(y_test,y_pred))\n",
    "print(\"r squared:\",r2_score(y_test,y_pred))"
   ]
  },
  {
   "cell_type": "markdown",
   "id": "89b19bcd",
   "metadata": {},
   "source": [
    "MSE value is decreased and r2_score value has increased."
   ]
  },
  {
   "cell_type": "code",
   "execution_count": null,
   "id": "835e0c9d",
   "metadata": {},
   "outputs": [],
   "source": []
  }
 ],
 "metadata": {
  "kernelspec": {
   "display_name": "Python 3",
   "language": "python",
   "name": "python3"
  },
  "language_info": {
   "codemirror_mode": {
    "name": "ipython",
    "version": 3
   },
   "file_extension": ".py",
   "mimetype": "text/x-python",
   "name": "python",
   "nbconvert_exporter": "python",
   "pygments_lexer": "ipython3",
   "version": "3.8.8"
  }
 },
 "nbformat": 4,
 "nbformat_minor": 5
}
